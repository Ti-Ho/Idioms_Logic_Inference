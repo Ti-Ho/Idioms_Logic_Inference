{
 "cells": [
  {
   "cell_type": "markdown",
   "metadata": {},
   "source": [
    "# 数据处理与数据集构建\n",
    "## 1. 爬虫部分"
   ]
  },
  {
   "cell_type": "markdown",
   "metadata": {},
   "source": [
    "### 1.1 计算爬取的总数据量（条）\n",
    "* **造句网**数据"
   ]
  },
  {
   "cell_type": "code",
   "execution_count": 1,
   "metadata": {},
   "outputs": [
    {
     "name": "stdout",
     "output_type": "stream",
     "text": [
      "120900\n"
     ]
    }
   ],
   "source": [
    "import pandas as pd\n",
    "\n",
    "filepath = \"MyData/Data_.csv\"\n",
    "tot_len = 0\n",
    "for i in range(1, 29):\n",
    "    pathl = filepath[0:-4]\n",
    "    pathr = filepath[-4:]\n",
    "    nowpath = pathl + str(i) + pathr\n",
    "    # print(nowpath)\n",
    "    data = pd.read_csv(nowpath)\n",
    "    tot_len += len(data)\n",
    "    # print(data)\n",
    "print(tot_len)"
   ]
  },
  {
   "cell_type": "markdown",
   "metadata": {},
   "source": [
    "* **百度汉语**近反义成语数据"
   ]
  },
  {
   "cell_type": "code",
   "execution_count": 3,
   "metadata": {},
   "outputs": [
    {
     "name": "stdout",
     "output_type": "stream",
     "text": [
      "33379\n"
     ]
    }
   ],
   "source": [
    "filepath = \"SynAntIdiomData.csv\"\n",
    "data2 = pd.read_csv(filepath)\n",
    "print(len(data2))"
   ]
  },
  {
   "cell_type": "markdown",
   "metadata": {},
   "source": [
    "### 1.2 查看一个文件的数据\n",
    "* 查看**造句网**数据"
   ]
  },
  {
   "cell_type": "code",
   "execution_count": 2,
   "metadata": {},
   "outputs": [
    {
     "name": "stdout",
     "output_type": "stream",
     "text": [
      "       idiom1   idiom2                                           sentence\n",
      "0        哀兵必胜     骄兵必败  有句话叫做骄兵必败，哀兵必胜。虽然我们队赢了这场比赛，但我们不能骄傲，否则下次输的一方一定是我们。\n",
      "1        哀兵必胜  置之死地而后生                     哀兵必胜，置之死地而后生，更何况他们之间本身就不是生死之斗。\n",
      "2        哀兵必胜     置之死地                     哀兵必胜，置之死地而后生，更何况他们之间本身就不是生死之斗。\n",
      "3     置之死地而后生     置之死地                     哀兵必胜，置之死地而后生，更何况他们之间本身就不是生死之斗。\n",
      "4        哀兵必胜     屡战屡败  因为牺牲的都是身边的亲友，感情很深，正和哀兵必胜的兵家奥义，可是碰上太平军就是屡战屡败，只能...\n",
      "...       ...      ...                                                ...\n",
      "7107     闭门思过     一败涂地            孰不料玫瑰园一役，一败涂地一手育大的利达行亦拱手让人，只得蛰伏广州，闭门思过。\n",
      "7108     闭门思过     拱手让人            孰不料玫瑰园一役，一败涂地一手育大的利达行亦拱手让人，只得蛰伏广州，闭门思过。\n",
      "7109     一败涂地     拱手让人            孰不料玫瑰园一役，一败涂地一手育大的利达行亦拱手让人，只得蛰伏广州，闭门思过。\n",
      "7110     闭门思过     坐以待毙  在当今主流被各种门事件牵着走的时候，俺，也不坐以待毙，咱也来个门，啥门？闭门！——闭门思过、...\n",
      "7111     闭门思过     得过且过  【光棍节的种过法】快乐法：一笑而过；认命法：得过且过；潇洒法：飘过；实诚法：路过；忏悔法：闭...\n",
      "\n",
      "[7112 rows x 3 columns]\n"
     ]
    }
   ],
   "source": [
    "filepath = \"MyData/Data_1.csv\"\n",
    "data = pd.read_csv(filepath)\n",
    "print(data)"
   ]
  },
  {
   "cell_type": "markdown",
   "metadata": {},
   "source": [
    "* 查看**百度汉语**近反义成语数据\n",
    "\n",
    "  该数据由于无需打标签，在爬虫过程中已添加好`标签`以及成语的`解释`和`造句`"
   ]
  },
  {
   "cell_type": "code",
   "execution_count": 4,
   "metadata": {},
   "outputs": [
    {
     "name": "stdout",
     "output_type": "stream",
     "text": [
      "      idiom1 idiom2                                       explanation1  \\\n",
      "0       阿鼻地狱   阿毗地狱  阿鼻梵语的译音，意译为无间”，即痛苦无有间断之意。常用来比喻黑暗的社会和严酷的牢狱。又比喻无...   \n",
      "1       阿鼻地狱   极乐世界  阿鼻梵语的译音，意译为无间”，即痛苦无有间断之意。常用来比喻黑暗的社会和严酷的牢狱。又比喻无...   \n",
      "2       阿党比周   朋党比周                                   指相互勾结，相互偏袒，结党营私。   \n",
      "3       阿党比周   阿党相为                                   指相互勾结，相互偏袒，结党营私。   \n",
      "4       阿党比周   结党营私                                   指相互勾结，相互偏袒，结党营私。   \n",
      "...      ...    ...                                                ...   \n",
      "33374   做贼心虚   作贼心虚                               虚怕。指做了坏事怕人知道，心里老是不安。   \n",
      "33375   做张做势   做张做智                                     装模作样，故意做出一种姿态。   \n",
      "33376   做张做势   本来面目                                     装模作样，故意做出一种姿态。   \n",
      "33377   做张做致   做张做智                                       犹言装模作样，装腔作势。   \n",
      "33378   做张做致   装模作样                                       犹言装模作样，装腔作势。   \n",
      "\n",
      "                                                example1  \\\n",
      "0                             但也有少数意志薄弱的……逐步上当，终至堕入阿鼻地狱。   \n",
      "1                             但也有少数意志薄弱的……逐步上当，终至堕入阿鼻地狱。   \n",
      "2      《论语·卫灵公》众恶之，必察焉；众好之，必察焉”何晏集解引三国魏王肃曰或众阿党比周，或其人特...   \n",
      "3      《论语·卫灵公》众恶之，必察焉；众好之，必察焉”何晏集解引三国魏王肃曰或众阿党比周，或其人特...   \n",
      "4      《论语·卫灵公》众恶之，必察焉；众好之，必察焉”何晏集解引三国魏王肃曰或众阿党比周，或其人特...   \n",
      "...                                                  ...   \n",
      "33374                        这个毛病，起先人家还不知道，这又是他们做贼心虚弄穿的。   \n",
      "33375                      [蒋淑真]梳个纵鬓头儿，着件叩身衫子，做张做势，乔模乔样。   \n",
      "33376                      [蒋淑真]梳个纵鬓头儿，着件叩身衫子，做张做势，乔模乔样。   \n",
      "33377            沈琼枝看那两个妇人时，一个二十六七岁光景，一个十七八岁，乔素打扮，做张做致的。   \n",
      "33378            沈琼枝看那两个妇人时，一个二十六七岁光景，一个十七八岁，乔素打扮，做张做致的。   \n",
      "\n",
      "                                            explanation2  \\\n",
      "0      阿毗梵语的译音，意译为无间”，即痛苦无有间断之意。常用来比喻黑暗的社会和严酷的牢狱。又比喻无...   \n",
      "1                                佛教指阿弥陀佛居住的地方◇泛指幸福安乐的地方。   \n",
      "2                                             结党营私，排斥异己。   \n",
      "3                               阿党偏袒、偏私一方。为了谋求私利相互偏袒、包庇。   \n",
      "4                             党集团；营谋求。坏人集结在一起，谋求私利，专干坏事。   \n",
      "...                                                  ...   \n",
      "33374                               虚怕。指做了坏事怕人知道，心里老是不安。   \n",
      "33375                                       犹言装模作样，装腔作势。   \n",
      "33376                            原为佛家语，指人的本性◇多比喻事物原来的模样。   \n",
      "33377                                       犹言装模作样，装腔作势。   \n",
      "33378                                 样模样、姿态。指故意做作，故做姿态。   \n",
      "\n",
      "                                    example2  label  \n",
      "0                             生前不曾修福，死堕阿毗地狱。      1  \n",
      "1                  细观此景，与我大唐何异！所为极乐世界，诚此之谓也。      2  \n",
      "2                                          无      1  \n",
      "3                                          无      1  \n",
      "4       但昔日既与叛逆结盟，究非安分之辈。今名登黄榜，将来出仕，恐不免结党营私。      1  \n",
      "...                                      ...    ...  \n",
      "33374      一切违法乱纪者都是作贼心虚，他们损害国家和群众的利益，见不得阳光。      1  \n",
      "33375  [阮小七]提着双拳说道我老爷在此吃几杯酒儿，干你鸟事！做张做智要来拿我！”      1  \n",
      "33376         这一润色，留传固然留传了，但可惜的是一定失去了许多本来面目。      2  \n",
      "33377  [阮小七]提着双拳说道我老爷在此吃几杯酒儿，干你鸟事！做张做智要来拿我！”      1  \n",
      "33378           冷酒冷粉冷汤，着咱如何近傍，百般装模作样，讪笑寒酸魍魉。      1  \n",
      "\n",
      "[33379 rows x 7 columns]\n"
     ]
    }
   ],
   "source": [
    "filepath = \"SynAntIdiomData.csv\"\n",
    "data = pd.read_csv(filepath)\n",
    "print(data)"
   ]
  },
  {
   "cell_type": "markdown",
   "metadata": {},
   "source": [
    "## 2. 打标签部分\n",
    "### 2.1 将csv文件转成xlsx文件 （*目的为方便在excel中打标签*）"
   ]
  },
  {
   "cell_type": "code",
   "execution_count": null,
   "metadata": {},
   "outputs": [],
   "source": [
    "import pandas as pd\n",
    "def csv_to_xlsx_pd(fileFrom, fileTo):\n",
    "    csv = pd.read_csv('MyData/' + fileFrom, encoding='utf-8')\n",
    "    csv.to_excel('MyXlsx/' + fileTo, sheet_name='data', index = False)\n",
    "\n",
    "for i in range(1, 29):\n",
    "    fileFrom = \"Data_\" + str(i) + \".csv\"\n",
    "    fileTo = \"Data_\" + str(i) + \".xlsx\"\n",
    "    csv_to_xlsx_pd(fileFrom, fileTo)"
   ]
  },
  {
   "cell_type": "markdown",
   "metadata": {},
   "source": [
    "——**漫长的打标签**——\n",
    "\n",
    "打完标签后的文件存放于`LabeledData`文件夹中\n",
    "数据格式为：\n",
    "```\n",
    "idiom1\t   idiom2\t   sentence\t                                                             label\n",
    "哀兵必胜\t骄兵必败\t有句话叫做骄兵必败，哀兵必胜。虽然我们队赢了这场比赛，但我们不能骄傲，否则下次输的一方一定是我们。\t2\n",
    "...\n",
    "金戈铁马\t战火纷飞\t公元十三世纪是一个天翻地覆的世纪，是一个金戈铁马战火纷飞的年代，是分裂了四百馀年的中国完成第四次统一的世纪，也是中国打破闭关自守真正走上世界历史舞台的世纪。\t1\n",
    "```"
   ]
  },
  {
   "cell_type": "markdown",
   "metadata": {},
   "source": [
    "## 3. 构建数据集\n",
    "### 3.1 重构中华新华字典json文件的数据"
   ]
  },
  {
   "cell_type": "code",
   "execution_count": 1,
   "metadata": {},
   "outputs": [],
   "source": [
    "import json\n",
    "\n",
    "idiomDict = {}\n",
    "# 读取idiom.json中的数据 重构\n",
    "with open('idiom.json', 'r',encoding=\"utf-8\") as f:\n",
    "    lists = f.readlines()[0]\n",
    "    preData = json.loads(lists)\n",
    "    for data in preData:\n",
    "        word = data[\"word\"]\n",
    "        idiomDict[word] = {}\n",
    "        idiomDict[word][\"explanation\"] = data[\"explanation\"]\n",
    "        idiomDict[word][\"example\"] = data[\"example\"]\n",
    "# print(idiomDict) ############这里不要输出 否则JupyterNotebook会爆内存"
   ]
  },
  {
   "cell_type": "markdown",
   "metadata": {},
   "source": [
    "### 3.2 为造句网爬取到的数据(打完标签的)添加成语的举例`example`以及解释`explanation`数据字段"
   ]
  },
  {
   "cell_type": "code",
   "execution_count": 2,
   "metadata": {},
   "outputs": [
    {
     "name": "stdout",
     "output_type": "stream",
     "text": [
      "2386\n",
      "[['哀兵必胜', '骄兵必败', '原意是力量相当的两军对阵，悲愤的一方获得胜利◇指因受欺侮而奋起抵抗的军队，必定能取胜。', '不，哀兵必胜！不要乐，要哀，何小姐能弹《易水吟》的谱子吗？', '骄兵恃强轻敌的军队。骄傲的军队必定打败仗。', '古人云骄兵必败。”这就是少剑波致死的原因。', 2], ['骄兵必败', '哀兵必胜', '骄兵恃强轻敌的军队。骄傲的军队必定打败仗。', '古人云骄兵必败。”这就是少剑波致死的原因。', '原意是力量相当的两军对阵，悲愤的一方获得胜利◇指因受欺侮而奋起抵抗的军队，必定能取胜。', '不，哀兵必胜！不要乐，要哀，何小姐能弹《易水吟》的谱子吗？', 2], ['哀兵必胜', '屡战屡败', '原意是力量相当的两军对阵，悲愤的一方获得胜利◇指因受欺侮而奋起抵抗的军队，必定能取胜。', '不，哀兵必胜！不要乐，要哀，何小姐能弹《易水吟》的谱子吗？', '屡多次。多次打仗多次失败。', '无', 2], ['屡战屡败', '哀兵必胜', '屡多次。多次打仗多次失败。', '无', '原意是力量相当的两军对阵，悲愤的一方获得胜利◇指因受欺侮而奋起抵抗的军队，必定能取胜。', '不，哀兵必胜！不要乐，要哀，何小姐能弹《易水吟》的谱子吗？', 2], ['哀兵必胜', '穷寇莫追', '原意是力量相当的两军对阵，悲愤的一方获得胜利◇指因受欺侮而奋起抵抗的军队，必定能取胜。', '不，哀兵必胜！不要乐，要哀，何小姐能弹《易水吟》的谱子吗？', '穷寇走投无路的敌人。不追无路可走的敌人，以免敌人情急反扑，造成自己的损失。也比喻不可逼人太甚。', '兵法云归师莫掩，穷寇莫追。”', 1]]\n"
     ]
    }
   ],
   "source": [
    "import pandas as pd\n",
    "import numpy as np  \n",
    "import re\n",
    "import random\n",
    "from sklearn.utils import shuffle\n",
    "\n",
    "# 保存为csv文件\n",
    "def saveCsvData(datalist, savepath):\n",
    "    if len(datalist) == 0:\n",
    "        return\n",
    "    data = pd.DataFrame(datalist)\n",
    "    data.to_csv(savepath, index=False,\n",
    "                header=['idiom1', 'idiom2', 'explanation1', 'example1', 'explanation2', 'example2', 'label'])\n",
    "\n",
    "# 获取两个成语的解释和举例\n",
    "def getExplanationAndExample(idiom1, idiom2):\n",
    "    dic1 = idiomDict.get(idiom1)\n",
    "    dic2 = idiomDict.get(idiom2)\n",
    "    if dic1 == None or dic2 == None:               # 在idiomDict中查找 若没有 则跳过\n",
    "        return (None, None, None, None)\n",
    "    example1 = dic1['example']\n",
    "    example2 = dic2['example']\n",
    "    example1 = re.sub('(～)+', idiom1, example1) # 使用正则表达式 将成语加入到造句中\n",
    "    example2 = re.sub('(～)+', idiom2, example2)\n",
    "    example1 = re.sub('(★.*)+', \"\", example1)       # 使用正则表达式 去除造句来源\n",
    "    example2 = re.sub('(★.*)+', \"\", example2)\n",
    "    example1 = re.sub('(（.*)+', \"\", example1)\n",
    "    example2 = re.sub('(（.*)+', \"\", example2)\n",
    "    explanation1 = dic1['explanation']\n",
    "    explanation2 = dic2['explanation']\n",
    "    return (explanation1, example1, explanation2, example2)\n",
    "    \n",
    "allData = []\n",
    "\n",
    "# 遍历所有Xlsx文件 从idiomDict中添加字段\n",
    "for page in range(1, 2):\n",
    "    file_path = \"LabeledData/Data_\" + str(page) + \".xlsx\"\n",
    "    data_xlsx = pd.read_excel(file_path)\n",
    "    # print(data_xlsx)\n",
    "    data_list = np.array(data_xlsx)\n",
    "\n",
    "    for data_i in data_list:\n",
    "        idiom_i = [data_i[0], data_i[1]]\n",
    "        explanation1, example1, explanation2, example2 = getExplanationAndExample(data_i[0], data_i[1])\n",
    "        if explanation1 == None:\n",
    "            continue\n",
    "        idiom_i.append(explanation1)\n",
    "        idiom_i.append(example1)\n",
    "        idiom_i.append(explanation2)\n",
    "        idiom_i.append(example2)\n",
    "        idiom_i.append(data_i[3])\n",
    "        \n",
    "        # 成语2, 成语1 ， ...\n",
    "        reIdiom = [data_i[1], data_i[0]]\n",
    "        reIdiom.append(explanation2)\n",
    "        reIdiom.append(example2)\n",
    "        reIdiom.append(explanation1)\n",
    "        reIdiom.append(example1)\n",
    "        reIdiom.append(data_i[3])\n",
    "        \n",
    "        allData.append(idiom_i)\n",
    "        allData.append(reIdiom)\n",
    "        \n",
    "\n",
    "print(len(allData))\n",
    "print(allData[0: 5])"
   ]
  },
  {
   "cell_type": "markdown",
   "metadata": {},
   "source": [
    "### 3.3 添加近义成语、反义成语数据"
   ]
  },
  {
   "cell_type": "code",
   "execution_count": 3,
   "metadata": {},
   "outputs": [
    {
     "name": "stdout",
     "output_type": "stream",
     "text": [
      "[array(['做贼心虚', '作贼心虚', '虚怕。指做了坏事怕人知道，心里老是不安。',\n",
      "       '这个毛病，起先人家还不知道，这又是他们做贼心虚弄穿的。', '虚怕。指做了坏事怕人知道，心里老是不安。',\n",
      "       '一切违法乱纪者都是作贼心虚，他们损害国家和群众的利益，见不得阳光。', 1], dtype=object), ['作贼心虚', '做贼心虚', '虚怕。指做了坏事怕人知道，心里老是不安。', '一切违法乱纪者都是作贼心虚，他们损害国家和群众的利益，见不得阳光。', '虚怕。指做了坏事怕人知道，心里老是不安。', '这个毛病，起先人家还不知道，这又是他们做贼心虚弄穿的。', 1], array(['做张做势', '做张做智', '装模作样，故意做出一种姿态。', '[蒋淑真]梳个纵鬓头儿，着件叩身衫子，做张做势，乔模乔样。',\n",
      "       '犹言装模作样，装腔作势。', '[阮小七]提着双拳说道我老爷在此吃几杯酒儿，干你鸟事！做张做智要来拿我！”', 1],\n",
      "      dtype=object), ['做张做智', '做张做势', '犹言装模作样，装腔作势。', '[阮小七]提着双拳说道我老爷在此吃几杯酒儿，干你鸟事！做张做智要来拿我！”', '装模作样，故意做出一种姿态。', '[蒋淑真]梳个纵鬓头儿，着件叩身衫子，做张做势，乔模乔样。', 1], array(['做张做势', '本来面目', '装模作样，故意做出一种姿态。', '[蒋淑真]梳个纵鬓头儿，着件叩身衫子，做张做势，乔模乔样。',\n",
      "       '原为佛家语，指人的本性◇多比喻事物原来的模样。', '这一润色，留传固然留传了，但可惜的是一定失去了许多本来面目。', 2],\n",
      "      dtype=object), ['本来面目', '做张做势', '原为佛家语，指人的本性◇多比喻事物原来的模样。', '这一润色，留传固然留传了，但可惜的是一定失去了许多本来面目。', '装模作样，故意做出一种姿态。', '[蒋淑真]梳个纵鬓头儿，着件叩身衫子，做张做势，乔模乔样。', 2], array(['做张做致', '做张做智', '犹言装模作样，装腔作势。',\n",
      "       '沈琼枝看那两个妇人时，一个二十六七岁光景，一个十七八岁，乔素打扮，做张做致的。', '犹言装模作样，装腔作势。',\n",
      "       '[阮小七]提着双拳说道我老爷在此吃几杯酒儿，干你鸟事！做张做智要来拿我！”', 1], dtype=object), ['做张做智', '做张做致', '犹言装模作样，装腔作势。', '[阮小七]提着双拳说道我老爷在此吃几杯酒儿，干你鸟事！做张做智要来拿我！”', '犹言装模作样，装腔作势。', '沈琼枝看那两个妇人时，一个二十六七岁光景，一个十七八岁，乔素打扮，做张做致的。', 1], array(['做张做致', '装模作样', '犹言装模作样，装腔作势。',\n",
      "       '沈琼枝看那两个妇人时，一个二十六七岁光景，一个十七八岁，乔素打扮，做张做致的。', '样模样、姿态。指故意做作，故做姿态。',\n",
      "       '冷酒冷粉冷汤，着咱如何近傍，百般装模作样，讪笑寒酸魍魉。', 1], dtype=object), ['装模作样', '做张做致', '样模样、姿态。指故意做作，故做姿态。', '冷酒冷粉冷汤，着咱如何近傍，百般装模作样，讪笑寒酸魍魉。', '犹言装模作样，装腔作势。', '沈琼枝看那两个妇人时，一个二十六七岁光景，一个十七八岁，乔素打扮，做张做致的。', 1]]\n",
      "69144\n"
     ]
    }
   ],
   "source": [
    "data2 = pd.read_csv('SynAntIdiomData.csv')\n",
    "data2 = data2.values\n",
    "# print(data2[0: 10])\n",
    "for data_i in data2:\n",
    "    # 添加反向的数据\n",
    "    reIdiom = []\n",
    "    reIdiom.append(data_i[1])\n",
    "    reIdiom.append(data_i[0])\n",
    "    reIdiom.append(data_i[4])\n",
    "    reIdiom.append(data_i[5])\n",
    "    reIdiom.append(data_i[2])\n",
    "    reIdiom.append(data_i[3])\n",
    "    reIdiom.append(data_i[6])\n",
    "    \n",
    "    allData.append(data_i)\n",
    "    allData.append(reIdiom)\n",
    "\n",
    "print(allData[-10:])\n",
    "print(len(allData))\n",
    "binaryClsData = allData.copy()"
   ]
  },
  {
   "cell_type": "markdown",
   "metadata": {},
   "source": [
    "### 3.4 制作多分类数据集\n",
    "#### 3.4.1 添加若干不具有逻辑关系的成语 数量为$\\frac{并列关系的数据 + 转折关系的数据}{2}$"
   ]
  },
  {
   "cell_type": "code",
   "execution_count": 4,
   "metadata": {},
   "outputs": [
    {
     "name": "stdout",
     "output_type": "stream",
     "text": [
      "103716\n"
     ]
    }
   ],
   "source": [
    "# 添加若干不具有逻辑关系的成语\n",
    "tot = len(allData) // 2\n",
    "for i in range(tot):\n",
    "    idiomList = list(idiomDict.keys())\n",
    "    idiomNum = len(idiomList)\n",
    "    idiom1 = idiomList[random.randint(0,idiomNum - 1)]\n",
    "    idiom2 = idiomList[random.randint(0,idiomNum - 1)]\n",
    "    explanation1, example1, explanation2, example2 = getExplanationAndExample(idiom1, idiom2)\n",
    "    idiom = [idiom1, idiom2, explanation1, example1, explanation2, example2, 0]\n",
    "    allData.append(idiom)\n",
    "\n",
    "allData = shuffle(allData)\n",
    "print(len(allData))"
   ]
  },
  {
   "cell_type": "markdown",
   "metadata": {},
   "source": [
    "#### 3.4.2 分割数据集"
   ]
  },
  {
   "cell_type": "code",
   "execution_count": 5,
   "metadata": {},
   "outputs": [
    {
     "name": "stdout",
     "output_type": "stream",
     "text": [
      "93345\n",
      "10371\n"
     ]
    }
   ],
   "source": [
    "# 拿出10%的数据用来测试\n",
    "test_proportion = 0.1\n",
    "test_idx = int(len(allData) * test_proportion)\n",
    "# 分割训练集和测试集\n",
    "train_data = allData[test_idx:]\n",
    "test_data = allData[:test_idx]\n",
    "\n",
    "savepath = \"IdiomData_train.csv\"\n",
    "saveCsvData(train_data, savepath)\n",
    "print(len(train_data))\n",
    "savepath = \"IdiomData_test.csv\"\n",
    "saveCsvData(test_data, savepath)\n",
    "print(len(test_data))"
   ]
  },
  {
   "cell_type": "markdown",
   "metadata": {},
   "source": [
    "### 3.5 制作二分类数据集\n",
    "#### 3.5.1 将`label=1`和`label=2`的数据分开"
   ]
  },
  {
   "cell_type": "code",
   "execution_count": 6,
   "metadata": {},
   "outputs": [
    {
     "name": "stdout",
     "output_type": "stream",
     "text": [
      "46036\n",
      "23108\n"
     ]
    }
   ],
   "source": [
    "biClsData1 = []\n",
    "biClsData2 = []\n",
    "for item in binaryClsData:\n",
    "    if item[6] == 1:\n",
    "        biClsData1.append(item)\n",
    "    else:\n",
    "        item[6] = 1\n",
    "        biClsData2.append(item)\n",
    "\n",
    "print(len(biClsData1))\n",
    "print(len(biClsData2))\n",
    "# print(biClsData1[0: 10])\n",
    "# print(biClsData2[0: 10])"
   ]
  },
  {
   "cell_type": "markdown",
   "metadata": {},
   "source": [
    "#### 3.5.2 添加若干不具有逻辑关系的成语 （即负样本 正负样本数量为1：1）"
   ]
  },
  {
   "cell_type": "code",
   "execution_count": 7,
   "metadata": {},
   "outputs": [
    {
     "name": "stdout",
     "output_type": "stream",
     "text": [
      "92072\n",
      "46216\n"
     ]
    }
   ],
   "source": [
    "# 添加若干不具有逻辑关系的成语 与打标签数据个数相同\n",
    "# 添加到并列关系的数据中\n",
    "tot = len(biClsData1)\n",
    "for i in range(tot):\n",
    "    idiomList = list(idiomDict.keys())\n",
    "    idiomNum = len(idiomList)\n",
    "    idiom1 = idiomList[random.randint(0,idiomNum - 1)]\n",
    "    idiom2 = idiomList[random.randint(0,idiomNum - 1)]\n",
    "    explanation1, example1, explanation2, example2 = getExplanationAndExample(idiom1, idiom2)\n",
    "    idiom = [idiom1, idiom2, explanation1, example1, explanation2, example2, 0]\n",
    "    biClsData1.append(idiom)\n",
    "\n",
    "# 添加到转折关系的数据中\n",
    "tot = len(biClsData2)\n",
    "for i in range(tot):\n",
    "    idiomList = list(idiomDict.keys())\n",
    "    idiomNum = len(idiomList)\n",
    "    idiom1 = idiomList[random.randint(0,idiomNum - 1)]\n",
    "    idiom2 = idiomList[random.randint(0,idiomNum - 1)]\n",
    "    explanation1, example1, explanation2, example2 = getExplanationAndExample(idiom1, idiom2)\n",
    "    idiom = [idiom1, idiom2, explanation1, example1, explanation2, example2, 0]\n",
    "    biClsData2.append(idiom)\n",
    "    \n",
    "biClsData1 = shuffle(biClsData1)\n",
    "biClsData2 = shuffle(biClsData2)\n",
    "print(len(biClsData1))\n",
    "print(len(biClsData2))"
   ]
  },
  {
   "cell_type": "markdown",
   "metadata": {},
   "source": [
    "#### 3.5.2 分割数据集"
   ]
  },
  {
   "cell_type": "code",
   "execution_count": 8,
   "metadata": {},
   "outputs": [
    {
     "name": "stdout",
     "output_type": "stream",
     "text": [
      "82865\n",
      "9207\n"
     ]
    }
   ],
   "source": [
    "# 并列关系\n",
    "# 拿出10%的数据用来测试\n",
    "test_proportion = 0.1\n",
    "test_idx = int(len(biClsData1) * test_proportion)\n",
    "# 分割训练集和测试集\n",
    "train_data = biClsData1[test_idx:]\n",
    "test_data = biClsData1[:test_idx]\n",
    "\n",
    "savepath = \"BinaryClsData1/BiIdiomData_train.csv\"\n",
    "saveCsvData(train_data, savepath)\n",
    "print(len(train_data))\n",
    "savepath = \"BinaryClsData1/BiIdiomData_test.csv\"\n",
    "saveCsvData(test_data, savepath)\n",
    "print(len(test_data))"
   ]
  },
  {
   "cell_type": "code",
   "execution_count": 9,
   "metadata": {},
   "outputs": [
    {
     "name": "stdout",
     "output_type": "stream",
     "text": [
      "41595\n",
      "4621\n"
     ]
    }
   ],
   "source": [
    "# 转折关系\n",
    "# 拿出10%的数据用来测试\n",
    "test_proportion = 0.1\n",
    "test_idx = int(len(biClsData2) * test_proportion)\n",
    "# 分割训练集和测试集\n",
    "train_data = biClsData2[test_idx:]\n",
    "test_data = biClsData2[:test_idx]\n",
    "\n",
    "savepath = \"BinaryClsData2/BiIdiomData_train.csv\"\n",
    "saveCsvData(train_data, savepath)\n",
    "print(len(train_data))\n",
    "savepath = \"BinaryClsData2/BiIdiomData_test.csv\"\n",
    "saveCsvData(test_data, savepath)\n",
    "print(len(test_data))"
   ]
  },
  {
   "cell_type": "markdown",
   "metadata": {},
   "source": [
    "**至此，数据集构建完成**"
   ]
  }
 ],
 "metadata": {
  "kernelspec": {
   "display_name": "Python [conda env:env4bert]",
   "language": "python",
   "name": "conda-env-env4bert-py"
  },
  "language_info": {
   "codemirror_mode": {
    "name": "ipython",
    "version": 3
   },
   "file_extension": ".py",
   "mimetype": "text/x-python",
   "name": "python",
   "nbconvert_exporter": "python",
   "pygments_lexer": "ipython3",
   "version": "3.7.10"
  }
 },
 "nbformat": 4,
 "nbformat_minor": 4
}
