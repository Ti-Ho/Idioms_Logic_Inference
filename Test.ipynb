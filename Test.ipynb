{
 "cells": [
  {
   "cell_type": "markdown",
   "metadata": {},
   "source": [
    "## 1. 测试CUDA是否可用"
   ]
  },
  {
   "cell_type": "code",
   "execution_count": 1,
   "metadata": {},
   "outputs": [
    {
     "name": "stdout",
     "output_type": "stream",
     "text": [
      "1.2.0\n",
      "gpu True\n"
     ]
    }
   ],
   "source": [
    "import torch\n",
    "\n",
    "print(torch.__version__)\n",
    "print(\"gpu\", torch.cuda.is_available())"
   ]
  },
  {
   "cell_type": "markdown",
   "metadata": {},
   "source": [
    "## 2. 字符串测试"
   ]
  },
  {
   "cell_type": "code",
   "execution_count": 3,
   "metadata": {},
   "outputs": [
    {
     "name": "stdout",
     "output_type": "stream",
     "text": [
      "https://zaojv.com/4420198\n",
      ".html\n"
     ]
    }
   ],
   "source": [
    "url = \"https://zaojv.com/4420198.html\"\n",
    "urll = url[0:-5]\n",
    "urlr = url[-5:]\n",
    "print(urll)\n",
    "print(urlr)"
   ]
  },
  {
   "cell_type": "markdown",
   "metadata": {},
   "source": [
    "## 2. 测试正则表达式"
   ]
  },
  {
   "cell_type": "code",
   "execution_count": 7,
   "metadata": {},
   "outputs": [
    {
     "name": "stdout",
     "output_type": "stream",
     "text": [
      "这些玻璃工艺品玲珑剔透，令人爱不释手。\n"
     ]
    }
   ],
   "source": [
    "import re\n",
    "\n",
    "def delChars(sentence):\n",
    "    sentence = re.sub(r'^(（)*(\\()*', \"\", sentence)\n",
    "    sentence = sentence.strip()\n",
    "    sentence = re.sub(r'^(\\d+)*(\\.)*(\\))*(）)*(、)*', \"\", sentence)\n",
    "    sentence = re.sub('(\\d+)*([a-zA-Z]+)', \"\", sentence)\n",
    "    sentence = sentence.strip()\n",
    "    return sentence\n",
    "\n",
    "sentence = \"(1) 这些玻璃工ASFJKDSHFH艺品玲珑asdfaadfa剔透，令人爱不释手。\"\n",
    "sentence = delChars(sentence)\n",
    "print(sentence)"
   ]
  },
  {
   "cell_type": "markdown",
   "metadata": {},
   "source": [
    "## 3. 测试循环"
   ]
  },
  {
   "cell_type": "code",
   "execution_count": 17,
   "metadata": {},
   "outputs": [
    {
     "name": "stdout",
     "output_type": "stream",
     "text": [
      "01\n",
      "爱不释手 奇葩异卉\n",
      "02\n",
      "爱不释手 山清水秀\n",
      "03\n",
      "爱不释手 美不胜收\n",
      "04\n",
      "爱不释手 望而生畏\n",
      "12\n",
      "奇葩异卉 山清水秀\n",
      "13\n",
      "奇葩异卉 美不胜收\n",
      "14\n",
      "奇葩异卉 望而生畏\n",
      "23\n",
      "山清水秀 美不胜收\n",
      "24\n",
      "山清水秀 望而生畏\n",
      "34\n",
      "美不胜收 望而生畏\n"
     ]
    }
   ],
   "source": [
    "cy = ['爱不释手', '奇葩异卉', '山清水秀', '美不胜收', '望而生畏']\n",
    "for cyi in range(0, len(cy) - 1):\n",
    "    for cyj in range(cyi + 1, len(cy)):\n",
    "        print(str(cyi) + str(cyj))\n",
    "        print(cy[cyi] + \" \" + cy[cyj])"
   ]
  },
  {
   "cell_type": "code",
   "execution_count": 23,
   "metadata": {},
   "outputs": [
    {
     "name": "stdout",
     "output_type": "stream",
     "text": [
      "[['爱不释手', '奇葩异卉', '这些玻璃工艺品玲珑剔透，令人爱不释手。'], ['爱不释手', '山清水秀', '这些玻璃工艺品玲珑剔透，令人爱不释手。'], ['爱不释手', '美不胜收', '这些玻璃工艺品玲珑剔透，令人爱不释手。'], ['爱不释手', '望而生畏', '这些玻璃工艺品玲珑剔透，令人爱不释手。'], ['奇葩异卉', '山清水秀', '这些玻璃工艺品玲珑剔透，令人爱不释手。'], ['奇葩异卉', '美不胜收', '这些玻璃工艺品玲珑剔透，令人爱不释手。'], ['奇葩异卉', '望而生畏', '这些玻璃工艺品玲珑剔透，令人爱不释手。'], ['山清水秀', '美不胜收', '这些玻璃工艺品玲珑剔透，令人爱不释手。'], ['山清水秀', '望而生畏', '这些玻璃工艺品玲珑剔透，令人爱不释手。'], ['美不胜收', '望而生畏', '这些玻璃工艺品玲珑剔透，令人爱不释手。'], ['爱不释手2', '奇葩异卉2', '这些玻璃工艺品玲珑剔透，令人爱不释手。'], ['爱不释手2', '山清水秀2', '这些玻璃工艺品玲珑剔透，令人爱不释手。'], ['爱不释手2', '美不胜收2', '这些玻璃工艺品玲珑剔透，令人爱不释手。'], ['爱不释手2', '望而生畏2', '这些玻璃工艺品玲珑剔透，令人爱不释手。'], ['奇葩异卉2', '山清水秀2', '这些玻璃工艺品玲珑剔透，令人爱不释手。'], ['奇葩异卉2', '美不胜收2', '这些玻璃工艺品玲珑剔透，令人爱不释手。'], ['奇葩异卉2', '望而生畏2', '这些玻璃工艺品玲珑剔透，令人爱不释手。'], ['山清水秀2', '美不胜收2', '这些玻璃工艺品玲珑剔透，令人爱不释手。'], ['山清水秀2', '望而生畏2', '这些玻璃工艺品玲珑剔透，令人爱不释手。'], ['美不胜收2', '望而生畏2', '这些玻璃工艺品玲珑剔透，令人爱不释手。']]\n"
     ]
    }
   ],
   "source": [
    "datalist = []\n",
    "cy = ['爱不释手', '奇葩异卉', '山清水秀', '美不胜收', '望而生畏']\n",
    "for cyi in range(0, len(cy) - 1):\n",
    "    for cyj in range(cyi + 1, len(cy)):\n",
    "        data = []\n",
    "        data.append(cy[cyi])\n",
    "        data.append(cy[cyj])\n",
    "        data.append(sentence)\n",
    "#         print(data)\n",
    "        datalist.append(data)\n",
    "cy = ['爱不释手2', '奇葩异卉2', '山清水秀2', '美不胜收2', '望而生畏2']\n",
    "for cyi in range(0, len(cy) - 1):\n",
    "    for cyj in range(cyi + 1, len(cy)):\n",
    "        data = []\n",
    "        data.append(cy[cyi])\n",
    "        data.append(cy[cyj])\n",
    "        data.append(sentence)\n",
    "#         print(data)\n",
    "        datalist.append(data)\n",
    "print(datalist)"
   ]
  },
  {
   "cell_type": "markdown",
   "metadata": {},
   "source": [
    "## 4. 保存文件测试"
   ]
  },
  {
   "cell_type": "code",
   "execution_count": null,
   "metadata": {},
   "outputs": [],
   "source": []
  }
 ],
 "metadata": {
  "kernelspec": {
   "display_name": "Python [conda env:env4bert]",
   "language": "python",
   "name": "conda-env-env4bert-py"
  },
  "language_info": {
   "codemirror_mode": {
    "name": "ipython",
    "version": 3
   },
   "file_extension": ".py",
   "mimetype": "text/x-python",
   "name": "python",
   "nbconvert_exporter": "python",
   "pygments_lexer": "ipython3",
   "version": "3.7.10"
  }
 },
 "nbformat": 4,
 "nbformat_minor": 4
}
