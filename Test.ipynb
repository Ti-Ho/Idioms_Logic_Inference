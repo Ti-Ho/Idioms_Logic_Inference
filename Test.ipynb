{
 "cells": [
  {
   "cell_type": "markdown",
   "metadata": {},
   "source": [
    "## 1. 测试CUDA是否可用"
   ]
  },
  {
   "cell_type": "code",
   "execution_count": 1,
   "metadata": {},
   "outputs": [
    {
     "name": "stdout",
     "output_type": "stream",
     "text": [
      "1.2.0\n",
      "gpu True\n"
     ]
    }
   ],
   "source": [
    "import torch\n",
    "\n",
    "print(torch.__version__)\n",
    "print(\"gpu\", torch.cuda.is_available())"
   ]
  },
  {
   "cell_type": "markdown",
   "metadata": {},
   "source": [
    "## 2. 字符串测试"
   ]
  },
  {
   "cell_type": "code",
   "execution_count": 2,
   "metadata": {},
   "outputs": [
    {
     "name": "stdout",
     "output_type": "stream",
     "text": [
      "https://zaojv.com/4420198\n",
      ".html\n"
     ]
    }
   ],
   "source": [
    "url = \"https://zaojv.com/4420198.html\"\n",
    "urll = url[0:-5]\n",
    "urlr = url[-5:]\n",
    "print(urll)\n",
    "print(urlr)"
   ]
  },
  {
   "cell_type": "markdown",
   "metadata": {},
   "source": [
    "## 2. 测试正则表达式"
   ]
  },
  {
   "cell_type": "code",
   "execution_count": 8,
   "metadata": {},
   "outputs": [
    {
     "name": "stdout",
     "output_type": "stream",
     "text": [
      "这些玻璃工艺品玲珑剔透，令人爱不释手。\n"
     ]
    }
   ],
   "source": [
    "import re\n",
    "\n",
    "def delChars(sentence):\n",
    "    \n",
    "    sentence = re.sub(r'^(（)*(\\()*', \"\", sentence)\n",
    "    sentence = sentence.strip()\n",
    "    sentence = re.sub(r'^(\\d+)*(\\.)*(\\))*(）)*(、)*', \"\", sentence)\n",
    "    sentence = re.sub('(\\d+)*([a-zA-Z]+)', \"\", sentence)\n",
    "    sentence = sentence.strip()\n",
    "    sentence = re.sub('(,)+', \"，\", sentence)\n",
    "    return sentence\n",
    "\n",
    "sentence = \"(1) 这些玻璃工ASFJKDSHFH艺品玲珑asdfaadfa剔透,令人爱不释手。\"\n",
    "sentence = delChars(sentence)\n",
    "print(sentence)"
   ]
  },
  {
   "cell_type": "code",
   "execution_count": 2,
   "metadata": {},
   "outputs": [
    {
     "name": "stdout",
     "output_type": "stream",
     "text": [
      "刁迈彭一面让他起，一面故意做出～的样子，说‘这是怎么好！这是怎么好！叫我怎么对得起死的大哥！’\n"
     ]
    }
   ],
   "source": [
    "import re\n",
    "sentence = \"刁迈彭一面让他起，一面故意做出～的样子，说‘这是怎么好！这是怎么好！叫我怎么对得起死的大哥！’★李宝嘉《官场现形记》第五十一回\"\n",
    "sentence = re.sub('(★.*)+', \"\", sentence)\n",
    "print(sentence)"
   ]
  },
  {
   "cell_type": "markdown",
   "metadata": {},
   "source": [
    "## 3. 测试循环"
   ]
  },
  {
   "cell_type": "code",
   "execution_count": 4,
   "metadata": {},
   "outputs": [
    {
     "name": "stdout",
     "output_type": "stream",
     "text": [
      "01\n",
      "爱不释手 奇葩异卉\n",
      "02\n",
      "爱不释手 山清水秀\n",
      "03\n",
      "爱不释手 美不胜收\n",
      "04\n",
      "爱不释手 望而生畏\n",
      "12\n",
      "奇葩异卉 山清水秀\n",
      "13\n",
      "奇葩异卉 美不胜收\n",
      "14\n",
      "奇葩异卉 望而生畏\n",
      "23\n",
      "山清水秀 美不胜收\n",
      "24\n",
      "山清水秀 望而生畏\n",
      "34\n",
      "美不胜收 望而生畏\n"
     ]
    }
   ],
   "source": [
    "cy = ['爱不释手', '奇葩异卉', '山清水秀', '美不胜收', '望而生畏']\n",
    "for cyi in range(0, len(cy) - 1):\n",
    "    for cyj in range(cyi + 1, len(cy)):\n",
    "        print(str(cyi) + str(cyj))\n",
    "        print(cy[cyi] + \" \" + cy[cyj])"
   ]
  },
  {
   "cell_type": "code",
   "execution_count": 5,
   "metadata": {},
   "outputs": [
    {
     "name": "stdout",
     "output_type": "stream",
     "text": [
      "[['爱不释手', '奇葩异卉', '这些玻璃工艺品玲珑剔透，令人爱不释手。'], ['爱不释手', '山清水秀', '这些玻璃工艺品玲珑剔透，令人爱不释手。'], ['爱不释手', '美不胜收', '这些玻璃工艺品玲珑剔透，令人爱不释手。'], ['爱不释手', '望而生畏', '这些玻璃工艺品玲珑剔透，令人爱不释手。'], ['奇葩异卉', '山清水秀', '这些玻璃工艺品玲珑剔透，令人爱不释手。'], ['奇葩异卉', '美不胜收', '这些玻璃工艺品玲珑剔透，令人爱不释手。'], ['奇葩异卉', '望而生畏', '这些玻璃工艺品玲珑剔透，令人爱不释手。'], ['山清水秀', '美不胜收', '这些玻璃工艺品玲珑剔透，令人爱不释手。'], ['山清水秀', '望而生畏', '这些玻璃工艺品玲珑剔透，令人爱不释手。'], ['美不胜收', '望而生畏', '这些玻璃工艺品玲珑剔透，令人爱不释手。'], ['爱不释手2', '奇葩异卉2', '这些玻璃工艺品玲珑剔透，令人爱不释手。'], ['爱不释手2', '山清水秀2', '这些玻璃工艺品玲珑剔透，令人爱不释手。'], ['爱不释手2', '美不胜收2', '这些玻璃工艺品玲珑剔透，令人爱不释手。'], ['爱不释手2', '望而生畏2', '这些玻璃工艺品玲珑剔透，令人爱不释手。'], ['奇葩异卉2', '山清水秀2', '这些玻璃工艺品玲珑剔透，令人爱不释手。'], ['奇葩异卉2', '美不胜收2', '这些玻璃工艺品玲珑剔透，令人爱不释手。'], ['奇葩异卉2', '望而生畏2', '这些玻璃工艺品玲珑剔透，令人爱不释手。'], ['山清水秀2', '美不胜收2', '这些玻璃工艺品玲珑剔透，令人爱不释手。'], ['山清水秀2', '望而生畏2', '这些玻璃工艺品玲珑剔透，令人爱不释手。'], ['美不胜收2', '望而生畏2', '这些玻璃工艺品玲珑剔透，令人爱不释手。']]\n"
     ]
    }
   ],
   "source": [
    "datalist = []\n",
    "cy = ['爱不释手', '奇葩异卉', '山清水秀', '美不胜收', '望而生畏']\n",
    "for cyi in range(0, len(cy) - 1):\n",
    "    for cyj in range(cyi + 1, len(cy)):\n",
    "        data = []\n",
    "        data.append(cy[cyi])\n",
    "        data.append(cy[cyj])\n",
    "        data.append(sentence)\n",
    "#         print(data)\n",
    "        datalist.append(data)\n",
    "cy = ['爱不释手2', '奇葩异卉2', '山清水秀2', '美不胜收2', '望而生畏2']\n",
    "for cyi in range(0, len(cy) - 1):\n",
    "    for cyj in range(cyi + 1, len(cy)):\n",
    "        data = []\n",
    "        data.append(cy[cyi])\n",
    "        data.append(cy[cyj])\n",
    "        data.append(sentence)\n",
    "#         print(data)\n",
    "        datalist.append(data)\n",
    "print(datalist)"
   ]
  },
  {
   "cell_type": "markdown",
   "metadata": {},
   "source": [
    "## 4. 测试字符串列表去重"
   ]
  },
  {
   "cell_type": "code",
   "execution_count": 6,
   "metadata": {},
   "outputs": [
    {
     "name": "stdout",
     "output_type": "stream",
     "text": [
      "set()\n",
      "True\n",
      "0\n"
     ]
    }
   ],
   "source": [
    "cy_set = set({\"爱不释手奇葩异卉\"})\n",
    "tmp_set = set({\"爱不释手美不胜收\"})\n",
    "# cy_set = cy_set | tmp_set # 并集\n",
    "cy_set = cy_set & tmp_set # 交集\n",
    "print(cy_set)\n",
    "print(cy_set == set())\n",
    "print(len(cy_set))"
   ]
  },
  {
   "cell_type": "code",
   "execution_count": 7,
   "metadata": {
    "scrolled": true
   },
   "outputs": [
    {
     "name": "stdout",
     "output_type": "stream",
     "text": [
      "{'哀兵必胜骄兵必败'}\n",
      "{'骄兵必败哀兵必胜'}\n",
      "{'哀兵必胜骄兵必败', '骄兵必败哀兵必胜'}\n"
     ]
    }
   ],
   "source": [
    "all_set = set()\n",
    "subdata_i = ['哀兵必胜', '骄兵必败', '有句话叫做骄兵必败，哀兵必胜。虽然我们队赢了这场比赛，但我们不能骄傲，否则下次输的一方一定是我们。']\n",
    "strcat1 = {subdata_i[0] + subdata_i[1]}\n",
    "strcat2 = {subdata_i[1] + subdata_i[0]}\n",
    "print(strcat1)\n",
    "print(strcat2)\n",
    "all_set |= strcat1\n",
    "all_set |= strcat2\n",
    "print(all_set)"
   ]
  },
  {
   "cell_type": "markdown",
   "metadata": {},
   "source": [
    "## 5. 测试写csv文件\n",
    "pandas"
   ]
  },
  {
   "cell_type": "code",
   "execution_count": 8,
   "metadata": {},
   "outputs": [],
   "source": [
    "import pandas as pd\n",
    "\n",
    "#任意的多组列表\n",
    "a = [1,2,3]\n",
    "b = [4,5,6]    \n",
    "\n",
    "#字典中的key值即为csv中列名\n",
    "dataframe = pd.DataFrame({'a_name':a,'b_name':b})\n",
    "，,\n",
    "#将DataFrame存储为csv,index表示是否显示行名，default=True\n",
    "dataframe.to_csv(\"test.csv\",index=True,sep=',')"
   ]
  },
  {
   "cell_type": "code",
   "execution_count": 19,
   "metadata": {},
   "outputs": [],
   "source": [
    "import pandas as pd\n",
    "\n",
    "a = [[1, 2, 3],[2, 3, 4],[3, 4, 5]]\n",
    "a1 = pd.DataFrame(a)\n",
    "a1.to_csv('test.csv',mode='a', index=False,header=[\"成语1\", \"成语2\", \"造句\"])"
   ]
  },
  {
   "cell_type": "markdown",
   "metadata": {},
   "source": [
    "---\n",
    "csv"
   ]
  },
  {
   "cell_type": "code",
   "execution_count": 10,
   "metadata": {},
   "outputs": [],
   "source": [
    "import csv\n",
    "\n",
    "#python2可以用file替代open\n",
    "with open(\"test.csv\",\"a\", newline = \"\") as csvfile: \n",
    "    writer = csv.writer(csvfile)\n",
    "\n",
    "    #先写入columns_name\n",
    "    writer.writerow([\"index\",\"a_name\",\"b_name\"])\n",
    "    #写入多行用writerows\n",
    "    writer.writerows([[0,1,3],[1,2,3],[2,3,4]])"
   ]
  },
  {
   "cell_type": "markdown",
   "metadata": {},
   "source": [
    "## 6. 测试读csv文件"
   ]
  },
  {
   "cell_type": "code",
   "execution_count": 25,
   "metadata": {},
   "outputs": [],
   "source": [
    "import pandas as pd\n",
    "# data = pd.read_csv('DataCrawler/MyData/Data_1.csv')\n",
    "# print(data)"
   ]
  },
  {
   "cell_type": "markdown",
   "metadata": {},
   "source": [
    "计算爬取的总数据量（条）:"
   ]
  },
  {
   "cell_type": "code",
   "execution_count": null,
   "metadata": {},
   "outputs": [],
   "source": [
    "filepath = \"DataCrawler/MyData/Data_.csv\"\n",
    "tot_len = 0\n",
    "for i in range(1, 29):\n",
    "    pathl = filepath[0:-4]\n",
    "    pathr = filepath[-4:]\n",
    "    nowpath = pathl + str(i) + pathr\n",
    "    # print(nowpath)\n",
    "    data = pd.read_csv(nowpath)\n",
    "    tot_len += len(data)\n",
    "    print(data)\n",
    "print(tot_len)"
   ]
  },
  {
   "cell_type": "code",
   "execution_count": 51,
   "metadata": {},
   "outputs": [
    {
     "name": "stdout",
     "output_type": "stream",
     "text": [
      "    嗤之以鼻  毫不在意                            对于这类风言风语，哥哥总是嗤之以鼻，毫不在意。  1\n",
      "0   风言风语  毫不在意                            对于这类风言风语，哥哥总是嗤之以鼻，毫不在意。  2\n",
      "1   嗤之以鼻  夸夸其谈                               他这人夸夸其谈，在座的人都对他嗤之以鼻。  2\n",
      "2   嗤之以鼻  宝马香车                      现在的人有点钱就宝马香车的，看起来俗不可耐，叫人嗤之以鼻。  3\n",
      "3   嗤之以鼻  俗不可耐                      现在的人有点钱就宝马香车的，看起来俗不可耐，叫人嗤之以鼻。  4\n",
      "4   宝马香车  俗不可耐                      现在的人有点钱就宝马香车的，看起来俗不可耐，叫人嗤之以鼻。  3\n",
      "5   嗤之以鼻  忘乎所以             他刚取得一点成绩就忘乎所以，目中无人了，他这种不知羞耻的行为，令人嗤之以鼻。  4\n",
      "6   嗤之以鼻  目中无人             他刚取得一点成绩就忘乎所以，目中无人了，他这种不知羞耻的行为，令人嗤之以鼻。  1\n",
      "7   忘乎所以  目中无人             他刚取得一点成绩就忘乎所以，目中无人了，他这种不知羞耻的行为，令人嗤之以鼻。  1\n",
      "8   嗤之以鼻  日复一日  日复一日，我不厌其详地询问我自己，我在任何时候都这样低俯恳求你同情，但我能感受到你对这一切一...  1\n",
      "9   嗤之以鼻  不厌其详  日复一日，我不厌其详地询问我自己，我在任何时候都这样低俯恳求你同情，但我能感受到你对这一切一...  1\n",
      "10  日复一日  不厌其详  日复一日，我不厌其详地询问我自己，我在任何时候都这样低俯恳求你同情，但我能感受到你对这一切一...  1\n",
      "11  嗤之以鼻  七嘴八舌               那些评论家对他的作品七嘴八舌，乱说一通，他却对那些胡言乱语一概嗤之以鼻。  1\n",
      "12  嗤之以鼻  胡言乱语               那些评论家对他的作品七嘴八舌，乱说一通，他却对那些胡言乱语一概嗤之以鼻。  1\n",
      "13  七嘴八舌  胡言乱语               那些评论家对他的作品七嘴八舌，乱说一通，他却对那些胡言乱语一概嗤之以鼻。  1\n",
      "14  嗤之以鼻  不一而足      男孩乐队无处不在。人们对男孩乐队的反应不一而足：有惊为天人敬畏不已，也有嗤之以鼻无名火起。  1\n",
      "15  嗤之以鼻  攀龙附凤                    老张荣升董事长后，攀龙附凤的人很多，但是他却对这些人嗤之以鼻。  1\n",
      "16  嗤之以鼻  无可否认                 无可否认，造谣是可恶的，撒谎是可耻的，对造谣于撒谎人人应当嗤之以鼻。  2\n",
      "17  嗤之以鼻  所在皆是  这就是说，两千余年的历史并不取决于一个克娄巴特的鼻型如何，而更取决于所在皆是的我们的愚昧，取...  2\n"
     ]
    }
   ],
   "source": [
    "filepath = \"1.csv\"\n",
    "data = pd.read_csv(filepath)\n",
    "print(data)"
   ]
  },
  {
   "cell_type": "markdown",
   "metadata": {},
   "source": [
    "## 8. 测试清理脏数据"
   ]
  },
  {
   "cell_type": "code",
   "execution_count": 31,
   "metadata": {},
   "outputs": [
    {
     "name": "stdout",
     "output_type": "stream",
     "text": [
      "21\n"
     ]
    }
   ],
   "source": [
    "subPageData = [['爱不释dsfa', '奇葩异卉', '这些玻璃工艺品玲珑剔透，令人爱不释手。'],['爱不释手', '奇葩异卉', '这些玻璃工艺品玲珑剔透，令人爱不释手。'], ['爱不释手', '山清水秀', '这些玻璃工艺品玲珑剔透，令人爱不释手。'], ['爱不释手', '美不胜收', '这些玻璃工艺品玲珑剔透，令人爱不释手。'], ['爱不释手', '望而生畏', '这些玻璃工艺品玲珑剔透，令人爱不释手。'], ['奇葩异卉', '山清水秀', '这些玻璃工艺品玲珑剔透，令人爱不释手。'], ['奇葩异卉', '美不胜收', '这些玻璃工艺品玲珑剔透，令人爱不释手。'], ['奇葩异卉', '望而生畏', '这些玻璃工艺品玲珑剔透，令人爱不释手。'], ['山清水秀', '美不胜收', '这些玻璃工艺品玲珑剔透，令人爱不释手。'], ['山清水秀', '望而生畏', '这些玻璃工艺品玲珑剔透，令人爱不释手。'], ['美不胜收', '望而生畏', '这些玻璃工艺品玲珑剔透，令人爱不释手。'], ['爱不释手2', '奇葩异卉2', '这些玻璃工艺品玲珑剔透，令人爱不释手。'], ['爱不释手2', '山清水秀2', '这些玻璃工艺品玲珑剔透，令人爱不释手。'], ['爱不释手2', '美不胜收2', '这些玻璃工艺品玲珑剔透，令人爱不释手。'], ['爱不释手2', '望而生畏2', '这些玻璃工艺品玲珑剔透，令人爱不释手。'], ['奇葩异卉2', '山清水秀2', '这些玻璃工艺品玲珑剔透，令人爱不释手。'], ['奇葩异卉2', '美不胜收2', '这些玻璃工艺品玲珑剔透，令人爱不释手。'], ['奇葩异卉2', '望而生畏2', '这些玻璃工艺品玲珑剔透，令人爱不释手。'], ['山清水秀2', '美不胜收2', '这些玻璃工艺品玲珑剔透，令人爱不释手。'], ['山清水秀2', '望而生畏2', '这些玻璃工艺品玲珑剔透，令人爱不释手。'], ['美不胜收2', '望而生畏2', '这些玻璃工艺品玲珑剔透，令人爱不释手。']]\n",
    "datalist = []\n",
    "for subdata_i in subPageData:\n",
    "    if len(subdata_i[0]) < 4 or len(subdata_i[1]) < 4:\n",
    "        continue\n",
    "    datalist.append(subdata_i)\n",
    "print(len(datalist))"
   ]
  },
  {
   "cell_type": "markdown",
   "metadata": {},
   "source": [
    "## 9. 使用pandas将csv文件转成xlsx文件"
   ]
  },
  {
   "cell_type": "code",
   "execution_count": 49,
   "metadata": {},
   "outputs": [],
   "source": [
    "import pandas as pd\n",
    "def csv_to_xlsx_pd():\n",
    "    csv = pd.read_csv('DataCrawler/MyData/Data_4.csv', encoding='utf-8')\n",
    "    csv.to_excel('1.xlsx', sheet_name='data', index = False, header = None)\n",
    "csv_to_xlsx_pd()"
   ]
  },
  {
   "cell_type": "markdown",
   "metadata": {},
   "source": [
    "## 10. 使用第三方库pandas将xlsx文件转csv文件"
   ]
  },
  {
   "cell_type": "code",
   "execution_count": 50,
   "metadata": {},
   "outputs": [],
   "source": [
    "import pandas as pd\n",
    "\n",
    "def xlsx_to_csv_pd():\n",
    "    data_xls = pd.read_excel('1.xlsx', index_col=0)\n",
    "    data_xls.to_csv('1.csv', encoding='utf-8')\n",
    "\n",
    "xlsx_to_csv_pd()"
   ]
  },
  {
   "cell_type": "markdown",
   "metadata": {},
   "source": [
    "## 11. 测试json、python dict"
   ]
  },
  {
   "cell_type": "code",
   "execution_count": 3,
   "metadata": {},
   "outputs": [
    {
     "name": "stdout",
     "output_type": "stream",
     "text": [
      "{'阿鼻地狱': {'explanation': '阿鼻梵语的译音，意译为无间”，即痛苦无有间断之意。常用来比喻黑暗的社会和严酷的牢狱。又比喻无法摆脱的极其痛苦的境地。', 'example': '但也有少数意志薄弱的……逐步上当，终至堕入～。★《上饶集中营·炼狱杂记》'}, '阿党比周': {'explanation': '指相互勾结，相互偏袒，结党营私。', 'example': '《论语·卫灵公》众恶之，必察焉；众好之，必察焉”何晏集解引三国魏王肃曰或众～，或其人特立不群，故好恶不可不察也。”'}, '阿党相为': {'explanation': '阿党偏袒、偏私一方。为了谋求私利相互偏袒、包庇。', 'example': '无'}, '阿狗阿猫': {'explanation': '旧时人们常用的小名。引申为任何轻贱的，不值得重视的人或著作。', 'example': '无'}, '阿姑阿翁': {'explanation': '阿名词的前缀。姑丈夫的母亲。翁丈夫的父亲。指公公婆婆。', 'example': '既然如此，你我两个，便学个不痴不聋的～。★《儿女英雄传》二三回'}}\n",
      "['阿鼻地狱', '阿党比周', '阿党相为', '阿狗阿猫', '阿姑阿翁']\n"
     ]
    }
   ],
   "source": [
    "import json\n",
    "\n",
    "idiomDict = {}\n",
    "# 读取test.json中的数据\n",
    "with open('test.json', 'r',encoding=\"utf-8\") as f1:\n",
    "    list1 = f1.readlines()[0]\n",
    "    preData = json.loads(list1)\n",
    "    for data in preData:\n",
    "        word = data[\"word\"]\n",
    "#         print(data[\"explanation\"])\n",
    "#         print(data[\"example\"])\n",
    "        idiomDict[word] = {}\n",
    "        idiomDict[word][\"explanation\"] = data[\"explanation\"]\n",
    "        idiomDict[word][\"example\"] = data[\"example\"]\n",
    "\n",
    "print(idiomDict)\n",
    "print(list(idiomDict.keys()))"
   ]
  },
  {
   "cell_type": "code",
   "execution_count": null,
   "metadata": {},
   "outputs": [],
   "source": []
  }
 ],
 "metadata": {
  "kernelspec": {
   "display_name": "Python [conda env:env4bert]",
   "language": "python",
   "name": "conda-env-env4bert-py"
  },
  "language_info": {
   "codemirror_mode": {
    "name": "ipython",
    "version": 3
   },
   "file_extension": ".py",
   "mimetype": "text/x-python",
   "name": "python",
   "nbconvert_exporter": "python",
   "pygments_lexer": "ipython3",
   "version": "3.7.10"
  }
 },
 "nbformat": 4,
 "nbformat_minor": 4
}
