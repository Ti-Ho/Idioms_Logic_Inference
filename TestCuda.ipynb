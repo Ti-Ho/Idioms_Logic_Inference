{
 "cells": [
  {
   "cell_type": "markdown",
   "metadata": {},
   "source": [
    "## 测试CUDA是否可用"
   ]
  },
  {
   "cell_type": "code",
   "execution_count": 1,
   "metadata": {},
   "outputs": [
    {
     "name": "stdout",
     "output_type": "stream",
     "text": [
      "1.2.0\n",
      "gpu True\n"
     ]
    }
   ],
   "source": [
    "import torch\n",
    "\n",
    "print(torch.__version__)\n",
    "print(\"gpu\", torch.cuda.is_available())"
   ]
  },
  {
   "cell_type": "markdown",
   "metadata": {},
   "source": [
    "## 字符串测试"
   ]
  },
  {
   "cell_type": "code",
   "execution_count": 7,
   "metadata": {},
   "outputs": [
    {
     "name": "stdout",
     "output_type": "stream",
     "text": [
      "https://zaojv.com/4420198\n",
      ".html\n"
     ]
    }
   ],
   "source": [
    "url = \"https://zaojv.com/4420198.html\"\n",
    "urll = str[0:-5]\n",
    "urlr = str[-5:]\n",
    "print(urll)\n",
    "print(urlr)"
   ]
  },
  {
   "cell_type": "markdown",
   "metadata": {},
   "source": [
    "## 测试正则表达式"
   ]
  },
  {
   "cell_type": "code",
   "execution_count": 33,
   "metadata": {},
   "outputs": [
    {
     "name": "stdout",
     "output_type": "stream",
     "text": [
      "半壁江山就dasaffd因他的一意孤行而断送了。\n"
     ]
    }
   ],
   "source": [
    "import re\n",
    "sentence = \"1半壁江山就dasa1231343241ffd因他的一、意孤行、而断、送了。\"\n",
    "sentence = re.sub(r'^(\\d+)*(\\.)*(\\()*(\\))*(（)*(）)*(、)*', \"\", sentence)\n",
    "\n",
    "sentence = sentence.strip()\n",
    "print(sentence)"
   ]
  }
 ],
 "metadata": {
  "kernelspec": {
   "display_name": "Python [conda env:env4bert]",
   "language": "python",
   "name": "conda-env-env4bert-py"
  },
  "language_info": {
   "codemirror_mode": {
    "name": "ipython",
    "version": 3
   },
   "file_extension": ".py",
   "mimetype": "text/x-python",
   "name": "python",
   "nbconvert_exporter": "python",
   "pygments_lexer": "ipython3",
   "version": "3.7.10"
  }
 },
 "nbformat": 4,
 "nbformat_minor": 4
}
