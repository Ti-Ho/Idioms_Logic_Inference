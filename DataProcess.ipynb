{
 "cells": [
  {
   "cell_type": "markdown",
   "metadata": {},
   "source": [
    "# 数据处理\n",
    "## 1. 爬虫部分"
   ]
  },
  {
   "cell_type": "markdown",
   "metadata": {},
   "source": [
    "### 1.1 计算爬取的总数据量（条）"
   ]
  },
  {
   "cell_type": "code",
   "execution_count": 1,
   "metadata": {},
   "outputs": [
    {
     "name": "stdout",
     "output_type": "stream",
     "text": [
      "120900\n"
     ]
    }
   ],
   "source": [
    "import pandas as pd\n",
    "\n",
    "filepath = \"DataCrawler/MyData/Data_.csv\"\n",
    "tot_len = 0\n",
    "for i in range(1, 29):\n",
    "    pathl = filepath[0:-4]\n",
    "    pathr = filepath[-4:]\n",
    "    nowpath = pathl + str(i) + pathr\n",
    "    # print(nowpath)\n",
    "    data = pd.read_csv(nowpath)\n",
    "    tot_len += len(data)\n",
    "    # print(data)\n",
    "print(tot_len)"
   ]
  },
  {
   "cell_type": "markdown",
   "metadata": {},
   "source": [
    "### 1.2 查看一个文件的数据"
   ]
  },
  {
   "cell_type": "code",
   "execution_count": 2,
   "metadata": {},
   "outputs": [
    {
     "name": "stdout",
     "output_type": "stream",
     "text": [
      "       idiom1   idiom2                                           sentence\n",
      "0        哀兵必胜     骄兵必败  有句话叫做骄兵必败，哀兵必胜。虽然我们队赢了这场比赛，但我们不能骄傲，否则下次输的一方一定是我们。\n",
      "1        哀兵必胜  置之死地而后生                     哀兵必胜，置之死地而后生，更何况他们之间本身就不是生死之斗。\n",
      "2        哀兵必胜     置之死地                     哀兵必胜，置之死地而后生，更何况他们之间本身就不是生死之斗。\n",
      "3     置之死地而后生     置之死地                     哀兵必胜，置之死地而后生，更何况他们之间本身就不是生死之斗。\n",
      "4        哀兵必胜     屡战屡败  因为牺牲的都是身边的亲友，感情很深，正和哀兵必胜的兵家奥义，可是碰上太平军就是屡战屡败，只能...\n",
      "...       ...      ...                                                ...\n",
      "7107     闭门思过     一败涂地            孰不料玫瑰园一役，一败涂地一手育大的利达行亦拱手让人，只得蛰伏广州，闭门思过。\n",
      "7108     闭门思过     拱手让人            孰不料玫瑰园一役，一败涂地一手育大的利达行亦拱手让人，只得蛰伏广州，闭门思过。\n",
      "7109     一败涂地     拱手让人            孰不料玫瑰园一役，一败涂地一手育大的利达行亦拱手让人，只得蛰伏广州，闭门思过。\n",
      "7110     闭门思过     坐以待毙  在当今主流被各种门事件牵着走的时候，俺，也不坐以待毙，咱也来个门，啥门？闭门！——闭门思过、...\n",
      "7111     闭门思过     得过且过  【光棍节的种过法】快乐法：一笑而过；认命法：得过且过；潇洒法：飘过；实诚法：路过；忏悔法：闭...\n",
      "\n",
      "[7112 rows x 3 columns]\n"
     ]
    }
   ],
   "source": [
    "filepath = \"DataCrawler/MyData/Data_1.csv\"\n",
    "data = pd.read_csv(filepath)\n",
    "print(data)"
   ]
  },
  {
   "cell_type": "markdown",
   "metadata": {},
   "source": [
    "## 2. 打标签部分\n",
    "### 2.1 将csv文件转成xlsx文件"
   ]
  },
  {
   "cell_type": "code",
   "execution_count": 5,
   "metadata": {},
   "outputs": [],
   "source": [
    "import pandas as pd\n",
    "def csv_to_xlsx_pd(fileFrom, fileTo):\n",
    "    csv = pd.read_csv('DataCrawler/MyData/' + fileFrom, encoding='utf-8')\n",
    "    csv.to_excel('DataCrawler/MyXlsx/' + fileTo, sheet_name='data', index = False)\n",
    "\n",
    "for i in range(1, 29):\n",
    "    fileFrom = \"Data_\" + str(i) + \".csv\"\n",
    "    fileTo = \"Data_\" + str(i) + \".xlsx\"\n",
    "    csv_to_xlsx_pd(fileFrom, fileTo)"
   ]
  },
  {
   "cell_type": "markdown",
   "metadata": {},
   "source": [
    "——**漫长的打标签**——"
   ]
  },
  {
   "cell_type": "markdown",
   "metadata": {},
   "source": [
    "## 3. 添加成语的举例`example`以及解释`explanation`数据字段\n",
    "### 3.1 重构json文件的数据"
   ]
  },
  {
   "cell_type": "code",
   "execution_count": 1,
   "metadata": {},
   "outputs": [],
   "source": [
    "import json\n",
    "\n",
    "idiomDict = {}\n",
    "# 读取idiom.json中的数据 重构\n",
    "with open('idiom.json', 'r',encoding=\"utf-8\") as f:\n",
    "    lists = f.readlines()[0]\n",
    "    preData = json.loads(lists)\n",
    "    for data in preData:\n",
    "        word = data[\"word\"]\n",
    "        idiomDict[word] = {}\n",
    "        idiomDict[word][\"explanation\"] = data[\"explanation\"]\n",
    "        idiomDict[word][\"example\"] = data[\"example\"]\n",
    "# print(idiomDict) ############这里不要输出 否则JupyterNotebook会爆内存"
   ]
  },
  {
   "cell_type": "markdown",
   "metadata": {},
   "source": [
    "### 3.2 添加字段并分割数据集"
   ]
  },
  {
   "cell_type": "code",
   "execution_count": 17,
   "metadata": {},
   "outputs": [
    {
     "name": "stdout",
     "output_type": "stream",
     "text": [
      "312\n",
      "34\n"
     ]
    }
   ],
   "source": [
    "import pandas as pd\n",
    "import numpy as np  \n",
    "import re\n",
    "import random\n",
    "from sklearn.utils import shuffle\n",
    "\n",
    "# 保存为csv文件\n",
    "def saveCsvData(datalist, savepath):\n",
    "    if len(datalist) == 0:\n",
    "        return\n",
    "    data = pd.DataFrame(datalist)\n",
    "    data.to_csv(savepath, index=False,\n",
    "                header=['idiom1', 'idiom2', 'explanation1', 'example1', 'explanation2', 'example2', 'label'])\n",
    "\n",
    "# 获取两个成语的解释和举例\n",
    "def getExplanationAndExample(idiom1, idiom2):\n",
    "    dic1 = idiomDict.get(idiom1)\n",
    "    dic2 = idiomDict.get(idiom2)\n",
    "    if dic1 == None or dic2 == None:               # 在idiomDict中查找 若没有 则跳过\n",
    "        return (None, None, None, None)\n",
    "    example1 = dic1['example']\n",
    "    example2 = dic2['example']\n",
    "    example1 = re.sub('(～)+', idiom_i[0], example1) # 使用正则表达式 将成语加入到造句中\n",
    "    example2 = re.sub('(～)+', idiom_i[1], example2)\n",
    "    example1 = re.sub('(★.*)+', \"\", example1)       # 使用正则表达式 去除造句来源\n",
    "    example2 = re.sub('(★.*)+', \"\", example2)\n",
    "    example1 = re.sub('(（.*)+', \"\", example1)\n",
    "    example2 = re.sub('(（.*)+', \"\", example2)\n",
    "    explanation1 = dic1['explanation']\n",
    "    explanation2 = dic2['explanation']\n",
    "    return (explanation1, example1, explanation2, example2)\n",
    "    \n",
    "allData = []\n",
    "\n",
    "# 遍历所有Xlsx文件 从idiomDict中添加字段\n",
    "for page in range(1, 2):\n",
    "    file_path = \"Data_\" + str(page) + \".xlsx\"\n",
    "    data_xlsx = pd.read_excel(file_path)\n",
    "    # print(data_xlsx)\n",
    "    data_list = np.array(data_xlsx)\n",
    "\n",
    "    for data_i in data_list:\n",
    "        idiom_i = [data_i[0], data_i[1]]\n",
    "        explanation1, example1, explanation2, example2 = getExplanationAndExample(data_i[0], data_i[1])\n",
    "        if explanation1 == None:\n",
    "            continue\n",
    "        idiom_i.append(explanation1)\n",
    "        idiom_i.append(example1)\n",
    "        idiom_i.append(explanation2)\n",
    "        idiom_i.append(example2)\n",
    "        idiom_i.append(data_i[3])\n",
    "        \n",
    "        allData.append(idiom_i)\n",
    "\n",
    "        \n",
    "# 添加若干不具有逻辑关系的成语 与打标签数据个数相同\n",
    "tot = len(allData)\n",
    "for i in range(tot):\n",
    "    idiomList = list(idiomDict.keys())\n",
    "    idiomNum = len(idiomList)\n",
    "    idiom1 = idiomList[random.randint(0,idiomNum)]\n",
    "    idiom2 = idiomList[random.randint(0,idiomNum)]\n",
    "    explanation1, example1, explanation2, example2 = getExplanationAndExample(idiom1, idiom2)\n",
    "    idiom = [idiom1, idiom2, explanation1, example1, explanation2, example2, 0]\n",
    "    allData.append(idiom)\n",
    "\n",
    "allData = shuffle(allData)\n",
    "# 拿出10%的数据用来测试\n",
    "test_proportion = 0.1\n",
    "test_idx = int(len(allData) * test_proportion)\n",
    "# 分割训练集和测试集\n",
    "train_data = allData[test_idx:]\n",
    "test_data = allData[:test_idx]\n",
    "\n",
    "savepath = \"IdiomData_train.csv\"\n",
    "saveCsvData(train_data, savepath)\n",
    "print(len(train_data))\n",
    "savepath = \"IdiomData_test.csv\"\n",
    "saveCsvData(test_data, savepath)\n",
    "print(len(test_data))"
   ]
  },
  {
   "cell_type": "code",
   "execution_count": 20,
   "metadata": {},
   "outputs": [
    {
     "name": "stdout",
     "output_type": "stream",
     "text": [
      "     idiom1  idiom2                                 explanation1  \\\n",
      "0      狼烟四起    生灵涂炭           狼烟古代边防报警时烧狼粪腾起的烟。四处都是报警的烟火，指边疆不平静。   \n",
      "1      爱憎分明    拖泥带水                            憎恨。爱和恨的立场和态度十分鲜明。   \n",
      "2      闲言长语     人急至                                    议人长短的唠叨话。   \n",
      "3      安步当车    逍遥自在                   安安详，不慌忙；安步缓缓步行。以从容的步行代替乘车。   \n",
      "4      唉声叹气    自言自语                            因伤感郁闷或悲痛而发出叹息的声音。   \n",
      "5      白日见鬼    不寒而栗         大白天看见鬼。指工部四曹无事可做，非常清闲◇泛指事情离奇古怪或无中生有。   \n",
      "6      刮骨抽筋    举一废百                                 比喻极力搜刮、榨取民财。   \n",
      "7      马捉老鼠    鱼烂瓦解                                       比喻瞎忙乱。   \n",
      "8      查无实据    添枝增叶                             查究起来，没有确实的根据或证据。   \n",
      "9      无兄盗嫂    随声吠影                                    指无中生有的毁谤。   \n",
      "10     此动彼应    无能为力                                   这里发动，那里响应。   \n",
      "11     安然无恙    逍遥法外                    恙病。原指人平安没有疾病。现泛指事物平安未遭损害。   \n",
      "12     碍手碍脚    一事无成                                  碍阻碍。妨碍别人做事。   \n",
      "13     雕心雁爪    应答如响                                      比喻心狠手辣。   \n",
      "14     游目骋怀    雪北香南                  游目远眺；骋怀放开胸怀，往远处想。纵目四望，开阔心胸。   \n",
      "15     见弹求鹗    追风掣电               看到弹丸，就想得到鸟的炙肉。比喻过早估计实效。同见弹求鸮”。   \n",
      "16     跗萼载韡    白发朱颜                                   比喻兄弟均贵显荣耀。   \n",
      "17     白面书生  手无缚鸡之力                      指缺乏阅历经验的读书人。也指面孔白净的读书人。   \n",
      "18     指日可下    连绵起伏                                   表示不久就可以攻下。   \n",
      "19     胆大心小    面引廷争                                 形容办事果断，考虑周密。   \n",
      "20     哀鸿遍野    饿殍载道  哀鸿哀鸣的鸿雁。比喻啼饥号寒的灾民。比喻在天灾人祸中到处都是流离失所、呻吟呼号的饥民。   \n",
      "21     含章天挺    本同末离                             指内怀美质而挺秀。同含章挺生”。   \n",
      "22     唉声叹气    怨天怨地                            因伤感郁闷或悲痛而发出叹息的声音。   \n",
      "23     安分守己    百依百顺                         分本分。规矩老实，守本分，不做违法的事。   \n",
      "24     山清水秀    美不胜收                                      形容风景优美。   \n",
      "25     无恶不为    饮马长江                     没有哪件坏事不干的。指干尽了坏事。同无恶不作”。   \n",
      "26     爱不释手    叹为观止                                释放下。喜爱得舍不得放手。   \n",
      "27     百年好合    比翼双飞                                    夫妻永远和好之意。   \n",
      "28     安分守己    寻花问柳                         分本分。规矩老实，守本分，不做违法的事。   \n",
      "29     爱憎分明    无情无义                            憎恨。爱和恨的立场和态度十分鲜明。   \n",
      "30     生灵涂炭    民不聊生       生灵百姓；涂泥沼；炭炭火。人民陷在泥塘和火坑里。形容人民处于极端困苦的境地。   \n",
      "31     不解之仇    铜浇铁铸                                     解除不了的仇恨。   \n",
      "32     爱憎分明    优柔寡断                            憎恨。爱和恨的立场和态度十分鲜明。   \n",
      "33  眉毛胡子一把抓    迷离恍惚                               俗语。比喻做事不分轻重缓急。   \n",
      "\n",
      "                                          example1  \\\n",
      "0                          这火筒节节生枝，能吹得狼烟四起；实在放他不得。   \n",
      "1                                                无   \n",
      "2                                                无   \n",
      "3   每日到局只要把照例的公事办完，立刻回公馆吃饭，一到下午，便一个人安步当车，出门逍遥自在去了。   \n",
      "4              我看你脸上一团私欲愁闷气色！这会子又唉声叹气，你那些还不足，还不自在？   \n",
      "5              八戒道哥啊，我们连日造化低了。这两日白日见鬼！那个化风去的老儿是谁？”   \n",
      "6                                                无   \n",
      "7                                                无   \n",
      "8                   不过废纸簏如果难以检查，也就成了事出有因，将心比心”的疑案。   \n",
      "9                    昔直不疑无兄，世人谓之盗嫂……此皆以白为黑，欺天罔上者也。   \n",
      "10                                               无   \n",
      "11           只求处士每岁元旦，作一朱幡，上图日月五星之文，立于苑东，吾辈则安然无恙矣。   \n",
      "12                宝钗因说道咱们别在这里碍手碍脚。”说着，和宝玉等便往迎春房中来。   \n",
      "13                                               无   \n",
      "14                                               无   \n",
      "15                                               无   \n",
      "16                                               无   \n",
      "17                                  雪儿呵，偏则把白面书生奚落。   \n",
      "18                                               无   \n",
      "19                                               无   \n",
      "20           我记得历史上的罗马何等殷阗繁盛，怎么今日却是哀鸿遍野，春燕无归，满眼凄惶。   \n",
      "21                                               无   \n",
      "22             我看你脸上一团私欲愁闷气色！这会子又唉声叹气，你那些还不足，还不自在？   \n",
      "23                           从此养好了，可要安分守己，再别胡行乱闹了。   \n",
      "24                                 我的家乡是个山清水秀的好地方。   \n",
      "25                                               无   \n",
      "26                     虽是不合他的路数，可奈文有定评，他看了也知道爱不释手。   \n",
      "27                        今日你们缔结了良缘，祝福你们百年好合，万事如意。   \n",
      "28                           从此养好了，可要安分守己，再别胡行乱闹了。   \n",
      "29                                               无   \n",
      "30                                               无   \n",
      "31            霍赵两家本无将心比心，只因彼此不服输的心理，而一定要争个高低，互不相让。   \n",
      "32                                               无   \n",
      "33                                               无   \n",
      "\n",
      "                              explanation2  \\\n",
      "0   生灵百姓；涂泥沼；炭炭火。人民陷在泥塘和火坑里。形容人民处于极端困苦的境地。   \n",
      "1                             比喻说话做事不干脆利落。   \n",
      "2               罕少。人很少到的地方。指偏僻荒凉的地方很少有人来过。   \n",
      "3                               无拘无束，安闲自得。   \n",
      "4                               自己一个人低声嘀咕。   \n",
      "5                     栗畏惧，发抖。不冷而发抖。形容非常恐惧。   \n",
      "6                  举提出；废弃。提出一点，废弃许多。指认识片面。   \n",
      "7                                  犹言鱼烂土崩。   \n",
      "8                        比喻接连不断地附加。同添枝接叶”。   \n",
      "9                 比喻一经他人唆使，便不分是非曲直，对人大加攻击。   \n",
      "10        不能施展力量。指使不上劲或没有能力去做好某件事情、解决某个问题。   \n",
      "11         逍遥优游自得的样子。指犯法的人没有受到法律制裁，仍然自由自在。   \n",
      "12            连一样事情也没有做成。指什么事情都做不成。形容毫无成就。   \n",
      "13                        对答有如回声。形容答话敏捷流利。   \n",
      "14                          多雪的北方和花木飘香的南方。   \n",
      "15                  形容速度极快。多指马飞速奔驰。同追风逐电”。   \n",
      "16                 颜脸色。头发斑白，脸色通红。形容老人容光焕发。   \n",
      "17                   连捆绑鸡的力气都没有。形容身体弱、力气小。   \n",
      "18            连绵连续不断的样子；起伏高低不平。连续不断而且起伏不平。   \n",
      "19                           指直言敢谏。同面折廷争”。   \n",
      "20               饿殍饿死的人；载道满路都是。形容到处都是饿死的人。   \n",
      "21                              本旨相同而途径不同。   \n",
      "22                         抱怨天又抱怨地。形容埋怨不休。   \n",
      "23                  依、顺顺从。什么都依从。形容一切都顺从别人。   \n",
      "24                      胜尽。美好的东西很多，一时看不过来。   \n",
      "25                    在长江边给战马喝水。指渡江南下进行征伐。   \n",
      "26           叹赞赏；观止看到这里就够了。指赞美所见到的事物好到了极点。   \n",
      "27     比翼翅膀挨着翅膀。双飞成双的并飞。比喻夫妻情投意合，在事业上并肩前进。   \n",
      "28      花、柳原指春景，旧时亦指娼妓。原指赏玩春天的景色◇旧小说用来指宿娼。   \n",
      "29                          没有一点情义。形容冷酷无情。   \n",
      "30                   聊依赖，凭借。指老百姓无以为生，活不下去。   \n",
      "31                               形容体格非常强壮。   \n",
      "32                   优柔犹豫不决；寡少。指做事犹豫，缺乏决断。   \n",
      "33           迷离凝，不分明；惝恍不真切，不清楚。形容凝而难以分辨清楚。   \n",
      "\n",
      "                               example2  label  \n",
      "0                                     无      1  \n",
      "1                     这篇文章拖泥带水，读起来索然无味。      2  \n",
      "2            南城县东百余里龙门山，山巅有寺，幽僻孤寂，心心相印。      0  \n",
      "3                      倒不如院长，放下名心，逍遥自在。      1  \n",
      "4                                     无      1  \n",
      "5              岂果脂粉之气，不势而威？胡乃肮脏之身，不寒而栗。      1  \n",
      "6                                     无      0  \n",
      "7                                     无      0  \n",
      "8                                     无      0  \n",
      "9                                     无      0  \n",
      "10  使兵饷顿竭，忠臣流涕顿足而叹，心心相印，惟有一死以报国，不亦大可哀乎？      0  \n",
      "11         这些该死的反动派，当然也抓到一些，可是总还有逍遥法外的。      1  \n",
      "12          员乃投镜于地，痛哭曰一事无成，双鬓已斑，天乎，天乎！”      1  \n",
      "13                                    无      0  \n",
      "14                                    无      0  \n",
      "15                                    无      0  \n",
      "16                                    无      0  \n",
      "17                                    无      1  \n",
      "18                         这里的丘陵真是连绵起伏。      0  \n",
      "19                                    无      0  \n",
      "20                    饿殍载道的灾后景象是不会再出现了。      1  \n",
      "21                                    无      0  \n",
      "22                                    无      1  \n",
      "23                   这安公子是那女孩儿一般百依百顺的人。      1  \n",
      "24               展览馆里展出的各种工艺品琳琅满目，美不胜收。      1  \n",
      "25                                    无      0  \n",
      "26                                    无      1  \n",
      "27     不是妾身多薄幸，只因司马太风骚，效神凤，下丹霄，比翼双飞上泬寥。      1  \n",
      "28           只等的红雨散，绿云收，我那其间寻花问柳，重到岳阳楼。      2  \n",
      "29                                    无      2  \n",
      "30                在那些年月，军阀混战，土匪横行，民不聊生。      1  \n",
      "31                                    无      0  \n",
      "32                他做什么事都没有主见，是一个优柔寡断的人。      2  \n",
      "33                                    无      0  \n"
     ]
    }
   ],
   "source": [
    "# 注意文件大的话 这里不要输出 否则JupyterNotebook会爆内存\n",
    "filepath = \"IdiomData_test.csv\"\n",
    "data = pd.read_csv(filepath)\n",
    "print(data)"
   ]
  },
  {
   "cell_type": "markdown",
   "metadata": {},
   "source": [
    "**至此，数据集构建完成**"
   ]
  }
 ],
 "metadata": {
  "kernelspec": {
   "display_name": "Python [conda env:env4bert]",
   "language": "python",
   "name": "conda-env-env4bert-py"
  },
  "language_info": {
   "codemirror_mode": {
    "name": "ipython",
    "version": 3
   },
   "file_extension": ".py",
   "mimetype": "text/x-python",
   "name": "python",
   "nbconvert_exporter": "python",
   "pygments_lexer": "ipython3",
   "version": "3.7.10"
  }
 },
 "nbformat": 4,
 "nbformat_minor": 4
}
