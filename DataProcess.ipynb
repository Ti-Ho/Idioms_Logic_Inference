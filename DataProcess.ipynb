{
 "cells": [
  {
   "cell_type": "markdown",
   "metadata": {},
   "source": [
    "# 数据处理"
   ]
  },
  {
   "cell_type": "markdown",
   "metadata": {},
   "source": [
    "## 1. 计算爬取的总数据量（条）"
   ]
  },
  {
   "cell_type": "code",
   "execution_count": 14,
   "metadata": {},
   "outputs": [
    {
     "name": "stdout",
     "output_type": "stream",
     "text": [
      "       哀兵必胜     骄兵必败  有句话叫做骄兵必败，哀兵必胜。虽然我们队赢了这场比赛，但我们不能骄傲，否则下次输的一方一定是我们。\n",
      "0      哀兵必胜  置之死地而后生                     哀兵必胜，置之死地而后生，更何况他们之间本身就不是生死之斗。\n",
      "1      哀兵必胜     置之死地                     哀兵必胜，置之死地而后生，更何况他们之间本身就不是生死之斗。\n",
      "2   置之死地而后生     置之死地                     哀兵必胜，置之死地而后生，更何况他们之间本身就不是生死之斗。\n",
      "3      哀兵必胜     屡战屡败  因为牺牲的都是身边的亲友，感情很深，正和哀兵必胜的兵家奥义，可是碰上太平军就是屡战屡败，只能...\n",
      "4      哀兵必胜     溃不成军          哀兵必胜这句话果然不错，不久之后，那些蒙面人都被孙家的修士杀的溃不成军，纷纷败退。\n",
      "..      ...      ...                                                ...\n",
      "83     多如牛毛     民不聊生  怎么办?现在军阀、官僚横行，苛捐杂税多如牛毛，弄得人民流离失所，哀鸿遍野、饿殍载道，到处找不...\n",
      "84     流离失所     饿殍载道  怎么办?现在军阀、官僚横行，苛捐杂税多如牛毛，弄得人民流离失所，哀鸿遍野、饿殍载道，到处找不...\n",
      "85     流离失所     民不聊生  怎么办?现在军阀、官僚横行，苛捐杂税多如牛毛，弄得人民流离失所，哀鸿遍野、饿殍载道，到处找不...\n",
      "86     饿殍载道     民不聊生  怎么办?现在军阀、官僚横行，苛捐杂税多如牛毛，弄得人民流离失所，哀鸿遍野、饿殍载道，到处找不...\n",
      "87     哀鸿遍野     人间地狱  几千年过往，上古仙门不知何故一夜之间崩塌，六陆陆地，无正道大家把持，一些游荡着无意识的仙兽，...\n",
      "\n",
      "[88 rows x 3 columns]\n",
      "88\n"
     ]
    }
   ],
   "source": [
    "import pandas as pd\n",
    "\n",
    "filepath = \"DataCrawler/MyData/Data_.csv\"\n",
    "tot_len = 0\n",
    "for i in range(1, 2):\n",
    "    pathl = filepath[0:-4]\n",
    "    pathr = filepath[-4:]\n",
    "    nowpath = pathl + str(i) + pathr\n",
    "    # print(nowpath)\n",
    "    data = pd.read_csv(nowpath)\n",
    "    tot_len += len(data)\n",
    "    print(data)\n",
    "print(tot_len)"
   ]
  },
  {
   "cell_type": "markdown",
   "metadata": {},
   "source": [
    "查看一个文件的数据"
   ]
  },
  {
   "cell_type": "code",
   "execution_count": 34,
   "metadata": {},
   "outputs": [
    {
     "name": "stdout",
     "output_type": "stream",
     "text": [
      "       哀兵必胜     骄兵必败  有句话叫做骄兵必败，哀兵必胜。虽然我们队赢了这场比赛，但我们不能骄傲，否则下次输的一方一定是我们。   1\n",
      "0      哀兵必胜  置之死地而后生                     哀兵必胜，置之死地而后生，更何况他们之间本身就不是生死之斗。   2\n",
      "1      哀兵必胜     置之死地                     哀兵必胜，置之死地而后生，更何况他们之间本身就不是生死之斗。   3\n",
      "2   置之死地而后生     置之死地                     哀兵必胜，置之死地而后生，更何况他们之间本身就不是生死之斗。   4\n",
      "3      哀兵必胜     屡战屡败  因为牺牲的都是身边的亲友，感情很深，正和哀兵必胜的兵家奥义，可是碰上太平军就是屡战屡败，只能...   5\n",
      "4      哀兵必胜     溃不成军          哀兵必胜这句话果然不错，不久之后，那些蒙面人都被孙家的修士杀的溃不成军，纷纷败退。   6\n",
      "..      ...      ...                                                ...  ..\n",
      "83     多如牛毛     民不聊生  怎么办?现在军阀、官僚横行，苛捐杂税多如牛毛，弄得人民流离失所，哀鸿遍野、饿殍载道，到处找不...  85\n",
      "84     流离失所     饿殍载道  怎么办?现在军阀、官僚横行，苛捐杂税多如牛毛，弄得人民流离失所，哀鸿遍野、饿殍载道，到处找不...  86\n",
      "85     流离失所     民不聊生  怎么办?现在军阀、官僚横行，苛捐杂税多如牛毛，弄得人民流离失所，哀鸿遍野、饿殍载道，到处找不...  87\n",
      "86     饿殍载道     民不聊生  怎么办?现在军阀、官僚横行，苛捐杂税多如牛毛，弄得人民流离失所，哀鸿遍野、饿殍载道，到处找不...  88\n",
      "87     哀鸿遍野     人间地狱  几千年过往，上古仙门不知何故一夜之间崩塌，六陆陆地，无正道大家把持，一些游荡着无意识的仙兽，...  89\n",
      "\n",
      "[88 rows x 4 columns]\n"
     ]
    }
   ],
   "source": [
    "filepath = \"DataCrawler/MyCsv/Data_1.csv\"\n",
    "data = pd.read_csv(filepath)\n",
    "print(data)"
   ]
  },
  {
   "cell_type": "markdown",
   "metadata": {},
   "source": [
    "## 2. 将csv文件转成xlsx文件"
   ]
  },
  {
   "cell_type": "code",
   "execution_count": 29,
   "metadata": {},
   "outputs": [],
   "source": [
    "import pandas as pd\n",
    "def csv_to_xlsx_pd():\n",
    "    csv = pd.read_csv('DataCrawler/MyData/Data_1.csv', encoding='utf-8')\n",
    "    csv.to_excel('DataCrawler/MyXlsx/Data_1.xlsx', sheet_name='data', index = False)\n",
    "    \n",
    "csv_to_xlsx_pd()"
   ]
  },
  {
   "cell_type": "markdown",
   "metadata": {},
   "source": [
    "## 3. 在打完标签后将xlsx文件转csv文件"
   ]
  },
  {
   "cell_type": "code",
   "execution_count": 33,
   "metadata": {},
   "outputs": [],
   "source": [
    "import pandas as pd\n",
    "\n",
    "def xlsx_to_csv_pd():\n",
    "    data_xls = pd.read_excel('DataCrawler/MyXlsx/Data_1.xlsx', index_col=0)\n",
    "    data_xls.to_csv('DataCrawler/MyCsv/Data_1.csv', encoding='utf-8')\n",
    "\n",
    "xlsx_to_csv_pd()"
   ]
  }
 ],
 "metadata": {
  "kernelspec": {
   "display_name": "Python [conda env:env4bert]",
   "language": "python",
   "name": "conda-env-env4bert-py"
  },
  "language_info": {
   "codemirror_mode": {
    "name": "ipython",
    "version": 3
   },
   "file_extension": ".py",
   "mimetype": "text/x-python",
   "name": "python",
   "nbconvert_exporter": "python",
   "pygments_lexer": "ipython3",
   "version": "3.7.10"
  }
 },
 "nbformat": 4,
 "nbformat_minor": 4
}
