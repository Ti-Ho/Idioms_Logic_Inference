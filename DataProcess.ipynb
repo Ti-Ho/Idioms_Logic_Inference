{
 "cells": [
  {
   "cell_type": "markdown",
   "metadata": {},
   "source": [
    "# 数据处理\n",
    "## 1. 爬虫部分"
   ]
  },
  {
   "cell_type": "markdown",
   "metadata": {},
   "source": [
    "### 1.1 计算爬取的总数据量（条）"
   ]
  },
  {
   "cell_type": "code",
   "execution_count": null,
   "metadata": {},
   "outputs": [],
   "source": [
    "import pandas as pd\n",
    "\n",
    "filepath = \"DataCrawler/MyData/Data_.csv\"\n",
    "tot_len = 0\n",
    "for i in range(1, 29):\n",
    "    pathl = filepath[0:-4]\n",
    "    pathr = filepath[-4:]\n",
    "    nowpath = pathl + str(i) + pathr\n",
    "    # print(nowpath)\n",
    "    data = pd.read_csv(nowpath)\n",
    "    tot_len += len(data)\n",
    "    # print(data)\n",
    "print(tot_len)"
   ]
  },
  {
   "cell_type": "markdown",
   "metadata": {},
   "source": [
    "### 1.2 查看一个文件的数据"
   ]
  },
  {
   "cell_type": "code",
   "execution_count": null,
   "metadata": {},
   "outputs": [],
   "source": [
    "filepath = \"DataCrawler/MyData/Data_1.csv\"\n",
    "data = pd.read_csv(filepath)\n",
    "print(data)"
   ]
  },
  {
   "cell_type": "markdown",
   "metadata": {},
   "source": [
    "## 2. 打标签部分\n",
    "### 2.1 将csv文件转成xlsx文件"
   ]
  },
  {
   "cell_type": "code",
   "execution_count": null,
   "metadata": {},
   "outputs": [],
   "source": [
    "import pandas as pd\n",
    "def csv_to_xlsx_pd(fileFrom, fileTo):\n",
    "    csv = pd.read_csv('DataCrawler/MyData/' + fileFrom, encoding='utf-8')\n",
    "    csv.to_excel('DataCrawler/MyXlsx/' + fileTo, sheet_name='data', index = False)\n",
    "\n",
    "for i in range(1, 29):\n",
    "    fileFrom = \"Data_\" + str(i) + \".csv\"\n",
    "    fileTo = \"Data_\" + str(i) + \".xlsx\"\n",
    "    csv_to_xlsx_pd(fileFrom, fileTo)"
   ]
  },
  {
   "cell_type": "markdown",
   "metadata": {},
   "source": [
    "——**漫长的打标签**——"
   ]
  },
  {
   "cell_type": "markdown",
   "metadata": {},
   "source": [
    "## 3. 添加成语的举例`example`以及解释`explanation`数据字段\n",
    "### 3.1 重构json文件的数据"
   ]
  },
  {
   "cell_type": "code",
   "execution_count": null,
   "metadata": {},
   "outputs": [],
   "source": [
    "import json\n",
    "\n",
    "idiomDict = {}\n",
    "# 读取idiom.json中的数据 重构\n",
    "with open('idiom.json', 'r',encoding=\"utf-8\") as f:\n",
    "    lists = f.readlines()[0]\n",
    "    preData = json.loads(lists)\n",
    "    for data in preData:\n",
    "        word = data[\"word\"]\n",
    "        idiomDict[word] = {}\n",
    "        idiomDict[word][\"explanation\"] = data[\"explanation\"]\n",
    "        idiomDict[word][\"example\"] = data[\"example\"]\n",
    "# print(idiomDict) ############这里不要输出 否则JupyterNotebook会爆内存"
   ]
  },
  {
   "cell_type": "markdown",
   "metadata": {},
   "source": [
    "### 3.2 添加字段并分割数据集"
   ]
  },
  {
   "cell_type": "code",
   "execution_count": null,
   "metadata": {},
   "outputs": [],
   "source": [
    "import pandas as pd\n",
    "import numpy as np  \n",
    "import re\n",
    "import random\n",
    "from sklearn.utils import shuffle\n",
    "\n",
    "# 保存为csv文件\n",
    "def saveCsvData(datalist, savepath):\n",
    "    if len(datalist) == 0:\n",
    "        return\n",
    "    data = pd.DataFrame(datalist)\n",
    "    data.to_csv(savepath, index=False,\n",
    "                header=['idiom1', 'idiom2', 'explanation1', 'example1', 'explanation2', 'example2', 'label'])\n",
    "\n",
    "# 获取两个成语的解释和举例\n",
    "def getExplanationAndExample(idiom1, idiom2):\n",
    "    dic1 = idiomDict.get(idiom1)\n",
    "    dic2 = idiomDict.get(idiom2)\n",
    "    if dic1 == None or dic2 == None:               # 在idiomDict中查找 若没有 则跳过\n",
    "        return (None, None, None, None)\n",
    "    example1 = dic1['example']\n",
    "    example2 = dic2['example']\n",
    "    example1 = re.sub('(～)+', idiom_i[0], example1) # 使用正则表达式 将成语加入到造句中\n",
    "    example2 = re.sub('(～)+', idiom_i[1], example2)\n",
    "    example1 = re.sub('(★.*)+', \"\", example1)       # 使用正则表达式 去除造句来源\n",
    "    example2 = re.sub('(★.*)+', \"\", example2)\n",
    "    example1 = re.sub('(（.*)+', \"\", example1)\n",
    "    example2 = re.sub('(（.*)+', \"\", example2)\n",
    "    explanation1 = dic1['explanation']\n",
    "    explanation2 = dic2['explanation']\n",
    "    return (explanation1, example1, explanation2, example2)\n",
    "    \n",
    "allData = []\n",
    "\n",
    "# 遍历所有Xlsx文件 从idiomDict中添加字段\n",
    "for page in range(1, 2):\n",
    "    file_path = \"Data_\" + str(page) + \".xlsx\"\n",
    "    data_xlsx = pd.read_excel(file_path)\n",
    "    # print(data_xlsx)\n",
    "    data_list = np.array(data_xlsx)\n",
    "\n",
    "    for data_i in data_list:\n",
    "        idiom_i = [data_i[0], data_i[1]]\n",
    "        explanation1, example1, explanation2, example2 = getExplanationAndExample(data_i[0], data_i[1])\n",
    "        if explanation1 == None:\n",
    "            continue\n",
    "        idiom_i.append(explanation1)\n",
    "        idiom_i.append(example1)\n",
    "        idiom_i.append(explanation2)\n",
    "        idiom_i.append(example2)\n",
    "        idiom_i.append(data_i[3])\n",
    "        \n",
    "        allData.append(idiom_i)\n",
    "\n",
    "        \n",
    "# 添加若干不具有逻辑关系的成语 与打标签数据个数相同\n",
    "tot = len(allData)\n",
    "for i in range(tot):\n",
    "    idiomList = list(idiomDict.keys())\n",
    "    idiomNum = len(idiomList)\n",
    "    idiom1 = idiomList[random.randint(0,idiomNum)]\n",
    "    idiom2 = idiomList[random.randint(0,idiomNum)]\n",
    "    explanation1, example1, explanation2, example2 = getExplanationAndExample(idiom1, idiom2)\n",
    "    idiom = [idiom1, idiom2, explanation1, example1, explanation2, example2, 0]\n",
    "    allData.append(idiom)\n",
    "\n",
    "allData = shuffle(allData)\n",
    "# 拿出10%的数据用来测试\n",
    "test_proportion = 0.1\n",
    "test_idx = int(len(allData) * test_proportion)\n",
    "# 分割训练集和测试集\n",
    "train_data = allData[test_idx:]\n",
    "test_data = allData[:test_idx]\n",
    "\n",
    "savepath = \"IdiomData_train.csv\"\n",
    "saveCsvData(train_data, savepath)\n",
    "print(len(train_data))\n",
    "savepath = \"IdiomData_test.csv\"\n",
    "saveCsvData(test_data, savepath)\n",
    "print(len(test_data))"
   ]
  },
  {
   "cell_type": "markdown",
   "metadata": {},
   "source": [
    "* 读取单个CSV文件"
   ]
  },
  {
   "cell_type": "code",
   "execution_count": null,
   "metadata": {},
   "outputs": [],
   "source": [
    "# 注意文件大的话 这里不要输出 否则JupyterNotebook会爆内存\n",
    "filepath = \"IdiomData_test.csv\"\n",
    "data = pd.read_csv(filepath)\n",
    "print(data)"
   ]
  },
  {
   "cell_type": "markdown",
   "metadata": {},
   "source": [
    "**至此，数据集构建完成**"
   ]
  }
 ],
 "metadata": {
  "kernelspec": {
   "display_name": "Python [conda env:env4bert]",
   "language": "python",
   "name": "conda-env-env4bert-py"
  },
  "language_info": {
   "codemirror_mode": {
    "name": "ipython",
    "version": 3
   },
   "file_extension": ".py",
   "mimetype": "text/x-python",
   "name": "python",
   "nbconvert_exporter": "python",
   "pygments_lexer": "ipython3",
   "version": "3.7.10"
  }
 },
 "nbformat": 4,
 "nbformat_minor": 4
}
