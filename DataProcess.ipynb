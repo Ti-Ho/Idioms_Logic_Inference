{
 "cells": [
  {
   "cell_type": "markdown",
   "metadata": {},
   "source": [
    "# 数据处理\n",
    "## 1. 爬虫部分"
   ]
  },
  {
   "cell_type": "markdown",
   "metadata": {},
   "source": [
    "### 1.1 计算爬取的总数据量（条）"
   ]
  },
  {
   "cell_type": "code",
   "execution_count": 1,
   "metadata": {},
   "outputs": [
    {
     "name": "stdout",
     "output_type": "stream",
     "text": [
      "120900\n"
     ]
    }
   ],
   "source": [
    "import pandas as pd\n",
    "\n",
    "filepath = \"DataCrawler/MyData/Data_.csv\"\n",
    "tot_len = 0\n",
    "for i in range(1, 29):\n",
    "    pathl = filepath[0:-4]\n",
    "    pathr = filepath[-4:]\n",
    "    nowpath = pathl + str(i) + pathr\n",
    "    # print(nowpath)\n",
    "    data = pd.read_csv(nowpath)\n",
    "    tot_len += len(data)\n",
    "    # print(data)\n",
    "print(tot_len)"
   ]
  },
  {
   "cell_type": "markdown",
   "metadata": {},
   "source": [
    "### 1.2 查看一个文件的数据"
   ]
  },
  {
   "cell_type": "code",
   "execution_count": 2,
   "metadata": {},
   "outputs": [
    {
     "name": "stdout",
     "output_type": "stream",
     "text": [
      "       idiom1   idiom2                                           sentence\n",
      "0        哀兵必胜     骄兵必败  有句话叫做骄兵必败，哀兵必胜。虽然我们队赢了这场比赛，但我们不能骄傲，否则下次输的一方一定是我们。\n",
      "1        哀兵必胜  置之死地而后生                     哀兵必胜，置之死地而后生，更何况他们之间本身就不是生死之斗。\n",
      "2        哀兵必胜     置之死地                     哀兵必胜，置之死地而后生，更何况他们之间本身就不是生死之斗。\n",
      "3     置之死地而后生     置之死地                     哀兵必胜，置之死地而后生，更何况他们之间本身就不是生死之斗。\n",
      "4        哀兵必胜     屡战屡败  因为牺牲的都是身边的亲友，感情很深，正和哀兵必胜的兵家奥义，可是碰上太平军就是屡战屡败，只能...\n",
      "...       ...      ...                                                ...\n",
      "7107     闭门思过     一败涂地            孰不料玫瑰园一役，一败涂地一手育大的利达行亦拱手让人，只得蛰伏广州，闭门思过。\n",
      "7108     闭门思过     拱手让人            孰不料玫瑰园一役，一败涂地一手育大的利达行亦拱手让人，只得蛰伏广州，闭门思过。\n",
      "7109     一败涂地     拱手让人            孰不料玫瑰园一役，一败涂地一手育大的利达行亦拱手让人，只得蛰伏广州，闭门思过。\n",
      "7110     闭门思过     坐以待毙  在当今主流被各种门事件牵着走的时候，俺，也不坐以待毙，咱也来个门，啥门？闭门！——闭门思过、...\n",
      "7111     闭门思过     得过且过  【光棍节的种过法】快乐法：一笑而过；认命法：得过且过；潇洒法：飘过；实诚法：路过；忏悔法：闭...\n",
      "\n",
      "[7112 rows x 3 columns]\n"
     ]
    }
   ],
   "source": [
    "filepath = \"DataCrawler/MyData/Data_1.csv\"\n",
    "data = pd.read_csv(filepath)\n",
    "print(data)"
   ]
  },
  {
   "cell_type": "markdown",
   "metadata": {},
   "source": [
    "## 2. 打标签部分\n",
    "### 2.1 将csv文件转成xlsx文件"
   ]
  },
  {
   "cell_type": "code",
   "execution_count": 5,
   "metadata": {},
   "outputs": [],
   "source": [
    "import pandas as pd\n",
    "def csv_to_xlsx_pd(fileFrom, fileTo):\n",
    "    csv = pd.read_csv('DataCrawler/MyData/' + fileFrom, encoding='utf-8')\n",
    "    csv.to_excel('DataCrawler/MyXlsx/' + fileTo, sheet_name='data', index = False)\n",
    "\n",
    "for i in range(1, 29):\n",
    "    fileFrom = \"Data_\" + str(i) + \".csv\"\n",
    "    fileTo = \"Data_\" + str(i) + \".xlsx\"\n",
    "    csv_to_xlsx_pd(fileFrom, fileTo)"
   ]
  },
  {
   "cell_type": "markdown",
   "metadata": {},
   "source": [
    "——**漫长的打标签**——"
   ]
  },
  {
   "cell_type": "markdown",
   "metadata": {},
   "source": [
    "## 3. 添加成语的举例`example`以及解释`explanation`数据字段\n",
    "### 3.1 重构json文件的数据"
   ]
  },
  {
   "cell_type": "code",
   "execution_count": 1,
   "metadata": {},
   "outputs": [],
   "source": [
    "import json\n",
    "\n",
    "idiomDict = {}\n",
    "# 读取idiom.json中的数据 重构\n",
    "with open('idiom.json', 'r',encoding=\"utf-8\") as f:\n",
    "    list = f.readlines()[0]\n",
    "    preData = json.loads(list)\n",
    "    for data in preData:\n",
    "        word = data[\"word\"]\n",
    "        idiomDict[word] = {}\n",
    "        idiomDict[word][\"explanation\"] = data[\"explanation\"]\n",
    "        idiomDict[word][\"example\"] = data[\"example\"]\n",
    "# print(idiomDict) ############这里不要输出 否则JupyterNotebook会爆内存"
   ]
  },
  {
   "cell_type": "markdown",
   "metadata": {},
   "source": [
    "### 3.2 添加字段并分割数据集"
   ]
  },
  {
   "cell_type": "code",
   "execution_count": 2,
   "metadata": {},
   "outputs": [
    {
     "name": "stdout",
     "output_type": "stream",
     "text": [
      "<class 'dict'>\n",
      "173\n"
     ]
    }
   ],
   "source": [
    "import pandas as pd\n",
    "import numpy as np  \n",
    "import re\n",
    "\n",
    "# 保存为csv文件\n",
    "def saveCsvData(datalist):\n",
    "    if len(datalist) == 0:\n",
    "        return\n",
    "    data = pd.DataFrame(datalist)\n",
    "    savepath = \"IdiomData.csv\"\n",
    "    data.to_csv(savepath, index=False,\n",
    "                header=['idiom1', 'idiom2', 'label', 'explanation1', 'example1', 'explanation2', 'example2'])\n",
    "\n",
    "# 获取两个成语的解释和举例\n",
    "def getExplanationAndExample(idiom1, idiom2):\n",
    "    dic1 = idiomDict.get(idiom1)\n",
    "    dic2 = idiomDict.get(idiom2)\n",
    "    if dic1 == None or dic2 == None:               # 在idiomDict中查找 若没有 则跳过\n",
    "        return (None, None, None, None)\n",
    "    example1 = dic1['example']\n",
    "    example2 = dic2['example']\n",
    "    example1 = re.sub('(～)+', idiom_i[0], example1) # 使用正则表达式 将成语加入到造句中\n",
    "    example2 = re.sub('(～)+', idiom_i[1], example2)\n",
    "    example1 = re.sub('(★.*)+', \"\", example1)       # 使用正则表达式 去除造句来源\n",
    "    example2 = re.sub('(★.*)+', \"\", example2)\n",
    "    \n",
    "    explanation1 = dic1['explanation']\n",
    "    explanation2 = dic2['explanation']\n",
    "    return (explanation1, example1, explanation2, example2)\n",
    "    \n",
    "allData = []\n",
    "\n",
    "# 遍历所有Xlsx文件 从idiomDict中添加字段\n",
    "for page in range(1, 2):\n",
    "    file_path = \"Data_\" + str(page) + \".xlsx\"\n",
    "    data_xlsx = pd.read_excel(file_path)\n",
    "    # print(data_xlsx)\n",
    "    data_list = np.array(data_xlsx)\n",
    "\n",
    "    for data_i in data_list:\n",
    "        idiom_i = [data_i[0], data_i[1], data_i[3]]\n",
    "        explanation1, example1, explanation2, example2 = getExplanationAndExample(data_i[0], data_i[1])\n",
    "        if explanation1 == None:\n",
    "            continue\n",
    "        idiom_i.append(explanation1)\n",
    "        idiom_i.append(example1)\n",
    "        idiom_i.append(explanation2)\n",
    "        idiom_i.append(example2)\n",
    "        \n",
    "        allData.append(idiom_i)\n",
    "\n",
    "# 添加若干不具有逻辑关系的成语 与打标签数据个数相同\n",
    "# for i in range(len(allData)):\n",
    "#     list(idiomDict.keys())\n",
    "\n",
    "# print(allData)\n",
    "# 保存数据\n",
    "savepath = \"IdiomData_train.csv\"\n",
    "saveCsvData(allData)\n",
    "print(len(allData))\n",
    "# savepath = \"IdiomData_test.csv\"\n",
    "# saveCsvData(allData)"
   ]
  },
  {
   "cell_type": "markdown",
   "metadata": {},
   "source": [
    "还需要的操作：\n",
    "* 随机挑选两个成语 作为不具有逻辑关系的例子 加入到数据中\n",
    "* 按照一定比例分开 train 和 test数据集"
   ]
  },
  {
   "cell_type": "code",
   "execution_count": 17,
   "metadata": {},
   "outputs": [
    {
     "name": "stdout",
     "output_type": "stream",
     "text": [
      "    idiom1 idiom2  label                                 explanation1  \\\n",
      "0     哀兵必胜   骄兵必败      2  原意是力量相当的两军对阵，悲愤的一方获得胜利◇指因受欺侮而奋起抵抗的军队，必定能取胜。   \n",
      "1     哀兵必胜   屡战屡败      2  原意是力量相当的两军对阵，悲愤的一方获得胜利◇指因受欺侮而奋起抵抗的军队，必定能取胜。   \n",
      "2     哀兵必胜   穷寇莫追      1  原意是力量相当的两军对阵，悲愤的一方获得胜利◇指因受欺侮而奋起抵抗的军队，必定能取胜。   \n",
      "3     哀兵必胜   破釜沉舟      1  原意是力量相当的两军对阵，悲愤的一方获得胜利◇指因受欺侮而奋起抵抗的军队，必定能取胜。   \n",
      "4     哀鸿遍野   疮痍满目      1  哀鸿哀鸣的鸿雁。比喻啼饥号寒的灾民。比喻在天灾人祸中到处都是流离失所、呻吟呼号的饥民。   \n",
      "..     ...    ...    ...                                          ...   \n",
      "168   天长地久   海枯石烂      1           跟天和地存在的时间那样长。形容时间悠久。也形容永远不变（多指爱情）。   \n",
      "169   天长地久   相濡以沫      1           跟天和地存在的时间那样长。形容时间悠久。也形容永远不变（多指爱情）。   \n",
      "170   甜言蜜语   海誓山盟      1                      象蜜糖一样甜的话。比喻为了骗人而说得动听的话。   \n",
      "171   白头偕老   心心相印      1                       白头头发白；偕共同。夫妻相亲相爱，一直到老。   \n",
      "172   将心比心   心心相印      1                                  设身处地地为别人着想。   \n",
      "\n",
      "                                  example1  \\\n",
      "0            不，哀兵必胜！不要乐，要哀，何小姐能弹《易水吟》的谱子吗？   \n",
      "1            不，哀兵必胜！不要乐，要哀，何小姐能弹《易水吟》的谱子吗？   \n",
      "2            不，哀兵必胜！不要乐，要哀，何小姐能弹《易水吟》的谱子吗？   \n",
      "3            不，哀兵必胜！不要乐，要哀，何小姐能弹《易水吟》的谱子吗？   \n",
      "4    我记得历史上的罗马何等殷阗繁盛，怎么今日却是哀鸿遍野，春燕无归，满眼凄惶。   \n",
      "..                                     ...   \n",
      "168                                      无   \n",
      "169                                      无   \n",
      "170                      卞福坐在旁边，甜言蜜语，劝了一回。   \n",
      "171                       我原说过，她不会跟你白头偕老的。   \n",
      "172                       太尉不将心比心，小子待将计就计。   \n",
      "\n",
      "                                        explanation2  \\\n",
      "0                              骄兵恃强轻敌的军队。骄傲的军队必定打败仗。   \n",
      "1                                      屡多次。多次打仗多次失败。   \n",
      "2    穷寇走投无路的敌人。不追无路可走的敌人，以免敌人情急反扑，造成自己的损失。也比喻不可逼人太甚。   \n",
      "3                                     比喻下决心不顾一切地干到底。   \n",
      "4                          疮痍创伤。满眼创伤。比喻眼前看到的都是灾祸的景象。   \n",
      "..                                               ...   \n",
      "168                    海水干涸、石头腐烂。形容历时久远。比喻坚定的意志永远不变。   \n",
      "169     濡沾湿；沫唾沫。泉水干了，鱼吐沫互相润湿。比喻一同在困难的处境里，用微薄的力量互相帮助。   \n",
      "170                       指男女相爱时立下的誓言，爱情要象山和海一样永恒不变。   \n",
      "171     心心意，思想感情；印符合。彼此的心意不用说出，就可以互相了解。形容彼此思想感情完全一致。   \n",
      "172     心心意，思想感情；印符合。彼此的心意不用说出，就可以互相了解。形容彼此思想感情完全一致。   \n",
      "\n",
      "                       example2  \n",
      "0         古人云骄兵必败。”这就是少剑波致死的原因。  \n",
      "1                             无  \n",
      "2                兵法云归师莫掩，穷寇莫追。”  \n",
      "3    只要我们有破釜沉舟的决心，就能克服学习上的各种困难。  \n",
      "4              征鼙聒耳乡音杳，疮痍满目亲人少。  \n",
      "..                          ...  \n",
      "168               汝要说我降，除非海枯石烂。  \n",
      "169                           无  \n",
      "170     非是我夸清正，只为他星前月下，亲曾设海誓山盟。  \n",
      "171         抚台看了，彼此心心相印，断无驳回之理。  \n",
      "172         抚台看了，彼此心心相印，断无驳回之理。  \n",
      "\n",
      "[173 rows x 7 columns]\n"
     ]
    }
   ],
   "source": [
    "filepath = \"IdiomData.csv\"\n",
    "data = pd.read_csv(filepath)\n",
    "print(data)"
   ]
  },
  {
   "cell_type": "markdown",
   "metadata": {},
   "source": [
    "**至此，数据集构建完成**"
   ]
  }
 ],
 "metadata": {
  "kernelspec": {
   "display_name": "Python [conda env:env4bert]",
   "language": "python",
   "name": "conda-env-env4bert-py"
  },
  "language_info": {
   "codemirror_mode": {
    "name": "ipython",
    "version": 3
   },
   "file_extension": ".py",
   "mimetype": "text/x-python",
   "name": "python",
   "nbconvert_exporter": "python",
   "pygments_lexer": "ipython3",
   "version": "3.7.10"
  }
 },
 "nbformat": 4,
 "nbformat_minor": 4
}
